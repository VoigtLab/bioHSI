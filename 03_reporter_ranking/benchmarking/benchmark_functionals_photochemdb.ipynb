{
 "cells": [
  {
   "cell_type": "code",
   "execution_count": 65,
   "id": "4182a135",
   "metadata": {},
   "outputs": [
    {
     "name": "stdout",
     "output_type": "stream",
     "text": [
      "14Jun2024\n"
     ]
    }
   ],
   "source": [
    "import pandas as pd\n",
    "import numpy as np\n",
    "from scipy import signal\n",
    "import glob\n",
    "import matplotlib.pyplot as plt\n",
    "import seaborn as sns\n",
    "import matplotlib\n",
    "import plotly.express as px\n",
    "matplotlib.rcParams['pdf.fonttype'] = 42\n",
    "plt.rcParams['font.size'] = 7\n",
    "plt.rcParams['font.sans-serif'] = 'Arial'\n",
    "from datetime import date\n",
    "today = date.today()\n",
    "date_str = today.strftime('%d%b%Y')\n",
    "print (date_str)\n",
    "\n",
    "import sys\n",
    "sys.path.append('../')\n",
    "from uniqueness_utils import * "
   ]
  },
  {
   "cell_type": "markdown",
   "id": "c84b4c34",
   "metadata": {},
   "source": [
    "Compare Predictions of molecules using B3LYP and the experimental measurements from PhotoChemDB"
   ]
  },
  {
   "cell_type": "markdown",
   "id": "4f5c2c42",
   "metadata": {},
   "source": [
    "## BENCHMARKING WITH SIMPLIFIED GAUSSIAN FITS OF ORIGINAL SPECTRA"
   ]
  },
  {
   "cell_type": "code",
   "execution_count": 66,
   "id": "a44ef415",
   "metadata": {},
   "outputs": [],
   "source": [
    "#Retrive prediction data\n",
    "\n",
    "#codes defined based on manual analysis of which compounds are truly biosynthesizable or not\n",
    "codes_to_drop = 'O05,J02,C02,G17,E01,G16,A03,A04,A19,E16,A16,A26,G03,A12,G19,A35,A17,E10'+\\\n",
    "                ',C01,C06,E02,A37,G05,A31,B01,A21,A36,G04,C05,A41,O08,I08'\n",
    "\n",
    "codes_to_drop = codes_to_drop.split(',')\n",
    "\n",
    "\n",
    "pred_specs = pd.read_csv('../00_data/benchmarking_data/8Jan2024_benchmarking_spectra.csv', index_col=0).transpose()\n",
    "benchmark_dataset = pd.read_csv('../00_data/benchmarking_data/9Aug2023_photochemcad_benchmark_cpds_metabolites.csv', sep='\\t', header=None)\n",
    "benchmark_codes = [c.replace(\"'\",\"\") for c in benchmark_dataset.iloc[:,0]]\n",
    "benchmark_codes = [c for c in benchmark_codes if c not in codes_to_drop]\n",
    "pred_specs = pred_specs[[x[:3] in benchmark_codes for x in pred_specs.index]]\n",
    "\n",
    "pred_specs = pred_specs.loc[[x[:3] not in codes_to_drop for x in pred_specs.index], :] # remove error compound"
   ]
  },
  {
   "cell_type": "code",
   "execution_count": 67,
   "id": "a1ed2242",
   "metadata": {},
   "outputs": [
    {
     "name": "stdout",
     "output_type": "stream",
     "text": [
      "S05 H2Pc(OBu)\n",
      "D10 Beta-carotene\n",
      "I10 Phenothiazine\n",
      "B03 p-Quaterphenyl\n",
      "L01 Auramine_O\n",
      "O12 Rutin_trihydrate\n",
      "I14 Toluidine_Blue_O\n",
      "N02 2',7'-Dichlorofluorescein\n",
      "A30 Gallacetophenone\n",
      "O11 Betanin\n",
      "G13 1,4-Naphthoquinone-2-sulfonic_acid_Potassium_salt\n",
      "H08 Coumarin_7\n",
      "C16 Pyranine\n",
      "D09 all_trans-Retinal\n",
      "C08 9,10-Diphenylanthracene\n",
      "E19 Thioflavin_T\n",
      "T05 Pyropheophorbide_a_methyl_ester\n",
      "F16 DL-alpha-Tocopherol\n",
      "I02 Proflavine_hydrochloride\n",
      "E14 Benzotriazole\n",
      "B13 (R)-BINOL\n",
      "E18 Thiazole_Orange\n",
      "E13 Benzothiazole\n",
      "J18 Benzopurpurin_4B\n",
      "K15 3,3'-Diethylthiadicarbocyanine_iodide\n",
      "E15 2-Methylbenzoxazole\n",
      "J08 Sudan_II\n",
      "I13 Azure_II\n",
      "P02 5-Phenyldipyrrin\n",
      "I01 Acridine\n",
      "N01 Fluorescein\n",
      "E06 1\n",
      "I06 Phenazine\n",
      "E20 Tris(2,2'-bipyridyl)ruthenium(II)\n",
      "Q05 MgOEP\n",
      "Q21 Protoporphyrin_IX_dimethyl_ester\n",
      "A13 Benzaldehyde\n",
      "F04 L-Histidine\n",
      "J01 Azobenzene\n",
      "K19 Stains_all\n",
      "L06 Methyl_Green\n",
      "P04 \n",
      "S01 H2Pc\n",
      "R06 Cyanocobalamin\n",
      "A18 Phenylhydrazine_Hydrochloride\n",
      "J13 Sudan_III\n",
      "C10 Rubrene\n",
      "A39 1,2,4,5-Tetracyanobenzene\n",
      "K05 1,1'-Diethyl-4,4'-carbocyanine_iodide\n",
      "G23 5,12-Naphthacenequinone\n",
      "F02 L-Phenylalanine\n",
      "G02 Hydroquinone\n",
      "K11 1,1'-Diethyl-3,3,3',3'-tetramethylindodicarbocyanine_iodide\n",
      "K14 3,3'-Diethylthiacarbocyanine_iodide\n",
      "G15 2-Methyl-1,4-naphthoquinone\n",
      "Q23 Tetrabenzoporphine\n",
      "C15 1,4,5,8-Naphthalenetetracarboxylic_dianhydride\n",
      "J19 Evans_Blue\n",
      "L11 Thymol_Blue\n",
      "I03 Acridine_Orange\n",
      "C12 2-Aminonaphthalene\n",
      "K09 3,3'-Diethyloxatricarbocyanine_iodide\n",
      "Q26 \n",
      "H04 7-Hydroxy-4-(trifluoromethyl)coumarin\n",
      "D05 1,4-Diphenylbutadiene\n",
      "A27 Vanillin\n",
      "T01 Chlorophyll_a\n",
      "T14 \n",
      "O09 Ellagic_Acid_Dihydrate\n",
      "Q20 \n",
      "N09 Xantphos\n",
      "P06 \n",
      "L03 Crystal_Violet\n",
      "M01 Perylene\n",
      "I17 Oxazine_1\n",
      "D07 4-Dimethylamino-4'-nitrostilbene\n",
      "F15 L-Ascorbic_acid\n",
      "F01 L-Alanine\n",
      "Q30 \n",
      "E11 8-Quinoline_carboxylic_acid\n",
      "F07 Guanine\n",
      "F06 Adenine\n",
      "G07 3,4,5,6-Tetrachloro-1,2-benzoquinone\n",
      "G12 1,4-Naphthoquinone\n",
      "S09 H2Nc(tBu)\n",
      "K06 1,1'-Diethyl-4,4'-dicarbocyanine_iodide\n",
      "N12 Sulforhodamine_B\n",
      "Q16 (ODC)H2P\n",
      "T04 Pyropheophorbide_a\n",
      "H01 Coumarin\n",
      "Q03 \n",
      "A23 Phenylacetylene\n",
      "I12 Methylene_blue\n",
      "B04 p-Quinquephenyl\n",
      "G01 1,4-Benzoquinone\n",
      "S07 ZnPc(tBu)\n",
      "C09 9,10-Bis(phenylethynyl)anthracene\n",
      "I07 Phenosafranin\n",
      "B08 3,3',5,5-Tetramethylbenzidine\n",
      "G14 2,3-Dichloro-1,4-naphthoquinone\n",
      "D04 1,4-Diphenylbutadiyne\n",
      "D08 Curcumin\n",
      "C07 Triphenylene\n",
      "N11 Rhodamine_B\n",
      "J15 Acid_Black_1\n",
      "T10 \n",
      "F08 Cytosine\n",
      "A08 Pentamethylbenzene\n",
      "T07 Purpurin_18\n",
      "I20 Nile_Blue\n",
      "R04 Bilirubin\n",
      "K12 1,1'-Diethyl-3,3,3',3'-tetramethylindotricarbocyanine_iodide\n",
      "F11 2-Amino-4-methylpyrimidine\n",
      "H10 Coumarin_151\n",
      "R02 C6F5-Corrole\n",
      "A01 Benzene\n",
      "A25 Phenylpropargyl_aldehyde\n",
      "J17 Congo_Red\n",
      "A15 Acetophenone\n",
      "L02 Malachite_Green\n",
      "E05 4-(4-Nitrobenzyl)pyridine\n",
      "G08 2,5-Diphenyl-1,4-benzoquinone\n",
      "C14 8-Anilino-1-naphthalenesulfonic_acid\n",
      "H02 4-Hydroxycoumarin\n",
      "B10 1,4-Bis(5-phenyl-2-oxazolyl)benzene_[POPOP]\n",
      "L05 Methy_Violet\n",
      "T03 Pheophorbide_a\n",
      "E12 3-Quinoline_carboxaldehyde\n",
      "C03 Tetracene\n",
      "T06 Chlorin_e6\n",
      "Q12 \n",
      "E22 7-Benzylamino-4-nitrobenz-2-oxa-1,3-diazole\n",
      "J06 Acid_Red_88\n",
      "A07 Durene\n",
      "B06 Benzidine\n",
      "S02 MgPc\n",
      "S03 FePc\n",
      "B11 1,2,3,4,5-Pentaphenyl-1,3-cyclopentadiene\n",
      "F18 Folic_acid\n",
      "J03 Methyl_Orange\n",
      "B09 2,5-Diphenyloxazole_[PPO]\n",
      "F03 L-Tyrosine\n",
      "F14 Riboflavin\n",
      "T08 H2TPC\n",
      "J07 Sudan_I\n",
      "N08 Rose_bengal\n",
      "E25 2,3,5-Triphenyltetrazolium_Chloride\n",
      "O07 Hoechst_33258\n",
      "L10 Cresol_Red\n",
      "A28 3-Hydroxyacetophenone\n",
      "N07 Erythrosine_B\n",
      "L04 p-Fuchsin\n",
      "H07 Coumarin_6\n",
      "I15 Phenoxathiin\n",
      "K10 1,1'-Diethyl-3,3,3',3'-tetramethylindocarbocyanine_iodide\n",
      "G10 Tetracyanoethylene\n",
      "Q17 C6F5-H2P\n",
      "A20 Iodobenzene\n",
      "B12 rac-BINAP\n",
      "A40 Hexafluorobenzene\n",
      "R01 Ph-Corrole\n",
      "T15 \n",
      "M02 Perylene_PMI\n",
      "I21 Oxazine_170\n",
      "N15 Sulforhodamine_101\n",
      "A33 Tetraphenylmethane\n",
      "E09 4,4'-Bipyridine\n",
      "G06 2,3-Dichloro-5,6-dicyano-1,4-benzoquinone\n",
      "A34 N-Phenylbenzylamine\n",
      "K04 1,1'-Diethyl-4,4'-cyanine_iodide\n",
      "A11 Anisole\n",
      "E23 Carbostyril_124\n",
      "Q11 H2TMP\n",
      "E03 2-Acetylpyridine\n",
      "K17 Merocyanine_540\n",
      "G24 6,13-Pentacenequinone\n",
      "S06 H2Pc(tBu)\n",
      "H11 Coumarin_314\n",
      "H03 7-Hydroxycoumarin\n",
      "B07 3,3'-Dimethylbenzidine\n",
      "Q15 (o-H2NPh)H2P\n",
      "I18 Cresyl_Violet_perchlorate\n",
      "Q10 ZnTPP\n",
      "Q28 \n",
      "Q07 ZnOEP\n",
      "Q18 tetraphenylporphyrin\n",
      "O04 1,2,3,4,5-Pentamethylcyclopentadiene\n",
      "A14 Benzoic acid\n",
      "Q19 \n",
      "Q04 H2OEP\n",
      "K16 3,3'-Diethylthiatricarbocyanine_iodide\n",
      "D06 1,6-Diphenylhexatriene\n",
      "Q06 CuOEP\n",
      "K07 3,3'-Diethyloxacarbocyanine_iodide\n",
      "J10 Acid_Red_1\n",
      "L08 Phenolphthalein\n",
      "Q27 \n",
      "H09 Coumarin_30\n",
      "Q09 MgTPP\n",
      "P01 5-Phenyldipyrromethane\n",
      "S11 Boron_subphthalocyanine_chloride\n",
      "F12 2,4-dihydroxy-6-methylpyrimidine\n",
      "T12 \n",
      "N03 3,4,5,6-Tetrachlorofluorescein\n",
      "M03 PMI(OR)\n",
      "B05 1,3,5-Triphenylbenzene\n",
      "J05 Orange_II\n",
      "D01 1,2-Diphenylacetylene\n",
      "E26 Quinine_sulfate\n",
      "O10 Betalamic_Acid\n",
      "J04 Orange_G\n",
      "I11 Thionin\n",
      "N10 Rhodamine_123\n",
      "Q14 H2TTP\n",
      "D03 trans-Stilbene\n",
      "O06 4',6-Diamidino-2-phenylindole_[DAPI]\n",
      "T09 \n",
      "B02 p-Terphenyl\n",
      "S08 H2Nc(OnBu)\n",
      "L09 Phenol_Red\n",
      "Q34 \n",
      "H05 7-Methoxycoumarin-4-acetic_acid\n",
      "K03 1,1'-Diethyl-2,2'-dicarbocyanine_iodide\n",
      "J09 Acid_Violet_3\n",
      "E24 Quinoline_Yellow\n",
      "R03 \n",
      "Q29 \n",
      "Q13 \n",
      "N13 Rhodamine_6G\n",
      "D02 cis-Stilbene\n",
      "K02 1,1'-Diethyl-2,2'-carbocyanine_iodide\n",
      "F09 Thymine\n",
      "Q25 \n",
      "N06 Phloxine_B\n",
      "K01 1,1'-Diethyl-2,2'-cyanine_iodide\n",
      "S10 H2N4P(tBu)\n",
      "K18 [DCM]\n",
      "A22 Styrene\n",
      "N14 Rhodamine_101_inner_salt\n",
      "I19 Nile_Red\n",
      "O13 Hesperidin\n",
      "I05 Acridone\n",
      "M04 Perylene_PMI(OR)3\n",
      "E04 4-Dimethylaminopyridine\n",
      "O02 Lucifer_Yellow_CH\n",
      "Q02 \n",
      "M05 Perylene_PDI\n",
      "H13 Calcein_Blue\n",
      "A06 Mesitylene\n",
      "T02 Chlorophyll_b\n",
      "T16 Bacteriochlorophyll_a\n",
      "Q22 Hematin\n",
      "G22 1,4-Anthraquinone\n",
      "G11 7,7,8,8-Tetracyanoquinodimethane\n",
      "Q31 \n",
      "N04 Eosin_B\n",
      "Q01 H2P\n",
      "T13 \n",
      "R05 Biliverdin_dimethyl_ester\n",
      "H12 Coumarin_343\n",
      "E08 2,2'-Bipyridine\n",
      "J12 Acid_Blue_92\n",
      "P05 \n",
      "A10 Phenol\n",
      "C13 2,3-Diaminonaphthalene\n",
      "K08 3,3'-Diethyloxadicarbocyanine_iodide\n",
      "N05 Eosin_Y\n",
      "E17 Pyrrole-2-carboxaldehyde\n",
      "H06 Coumarin_1\n",
      "P03 \n",
      "F17 Vitamin_K1\n",
      "O03 Piroxicam\n",
      "E21 4-Chloro-7-nitrobenzofurazan\n",
      "J14 Sudan_IV\n",
      "I04 Acridine_Yellow_G\n",
      "H14 Urolithin_B\n",
      "I09 Janus_Green_B\n",
      "Q24 \n",
      "J11 Acid_Red_14\n",
      "F13 D-(-)-Salicin\n",
      "P07 \n",
      "G18 1,2-Naphthoquinone-4-sulfonic_acid_sodium_salt\n",
      "A09 Hexamethylbenzene\n",
      "Q32 \n",
      "A24 1,4-Diethynylbenzene\n",
      "A02 Toluene\n",
      "C04 Pentacene\n",
      "O01 Dansylglycine\n",
      "T11 \n",
      "J16 Ponceau_S\n",
      "I16 Phenoxazine\n",
      "A05 p-Xylene\n",
      "K13 Indocyanine_Green\n",
      "Q33 \n",
      "A32 p-Phenylenediamine\n",
      "Q08 H2TPP\n",
      "G21 Alizarin_Red_S\n",
      "F05 L-Tryptophan\n",
      "F10 Uracil\n",
      "C11 1,8-Naphthalic_anhydride\n",
      "A38 Diethyl_phthalate\n",
      "E07 Phthalimide\n",
      "A29 Ethyl_4-(dimethylamino)benzoate\n",
      "G20 Alizarin\n",
      "S04 ZnPc\n",
      "L07 Methyl_Blue\n",
      "G09 2,5-Di-tert-butyl-1,4-benzoquinone\n"
     ]
    }
   ],
   "source": [
    "#Retrieve experimental data\n",
    "\n",
    "min_wl = 1000\n",
    "names = [x.split('/')[-1].split('.')[0] for x in glob.glob('../00_data/benchmarking_data/PhotochemCAD-3.1_Common-Compounds/*png')]\n",
    "code_to_name = {x.split('_')[0]:'_'.join(x.split('_')[2:]) for x in names}\n",
    "\n",
    "spec_dict = {}\n",
    "for abs_file in glob.glob('../00_data/benchmarking_data/PhotochemCAD-3.1_Common-Compounds/*ab*.txt'):\n",
    "    code = abs_file.split('/')[-1][:3]\n",
    "    spec_dict[code] = {}\n",
    "    spec = pd.read_csv(abs_file, sep='\\t')\n",
    "    spec_dict[code]['wavelengths'] = spec.iloc[:,0].values\n",
    "    spec_dict[code]['abs'] = spec.iloc[:,1].values\n",
    "\n",
    "codes = []\n",
    "extended_spectra = []\n",
    "for code in spec_dict:\n",
    "    if code not in codes_to_drop:\n",
    "        print (code, code_to_name[code])\n",
    "        s = np.zeros(2000)\n",
    "        s[spec_dict[code]['wavelengths'].astype(int)+1] = spec_dict[code]['abs']\n",
    "        min_wl = np.min([min_wl, np.min(spec_dict[code]['wavelengths'].astype(int))])\n",
    "        codes.append(code)\n",
    "        extended_spectra.append(s)\n",
    "\n",
    "exp_spec_df = pd.DataFrame(extended_spectra)\n",
    "exp_spec_df.index = codes\n",
    "exp_spec_df[exp_spec_df<0] = 0"
   ]
  },
  {
   "cell_type": "code",
   "execution_count": 68,
   "id": "e5e61fcd",
   "metadata": {},
   "outputs": [
    {
     "name": "stdout",
     "output_type": "stream",
     "text": [
      "b3lyp 50\n",
      "m062x 50\n",
      "pbe1pbe 50\n",
      "pbeh1pbe 50\n",
      "wb97xd 50\n"
     ]
    }
   ],
   "source": [
    "functionals = np.unique([x.split('_')[1] for x in pred_specs.index])\n",
    "predictions_dict = {f:{\"pred_df\":pred_specs.filter(axis=0, regex='.*_{}'.format(f))} for f in functionals}\n",
    "for f in predictions_dict:\n",
    "    print (f, len(predictions_dict[f]['pred_df']))"
   ]
  },
  {
   "cell_type": "code",
   "execution_count": 69,
   "id": "a1394959",
   "metadata": {},
   "outputs": [
    {
     "name": "stdout",
     "output_type": "stream",
     "text": [
      "(899,)\n",
      "Filtering spectrum dataframe\n",
      "Original dataframe dimensions: (50, 932)\n",
      "After filtering: (49, 899)\n",
      "scoring whole spectra\n",
      "Comparing to 49 molecules\n",
      "Filtering spectrum dataframe\n",
      "Original dataframe dimensions: (49, 932)\n",
      "After filtering: (49, 899)\n",
      "scoring whole spectra\n",
      "Comparing to 49 molecules\n",
      "91852.40454679674 144534.15262655297 0.36449342333555734\n",
      "0.6877932694294091\n"
     ]
    },
    {
     "data": {
      "text/plain": [
       "<Figure size 144x144 with 0 Axes>"
      ]
     },
     "metadata": {},
     "output_type": "display_data"
    },
    {
     "data": {
      "image/png": "[encoded data removed]",
      "text/plain": [
       "<Figure size 216x216 with 3 Axes>"
      ]
     },
     "metadata": {
      "needs_background": "light"
     },
     "output_type": "display_data"
    },
    {
     "data": {
      "text/plain": [
       "<Figure size 432x288 with 0 Axes>"
      ]
     },
     "metadata": {},
     "output_type": "display_data"
    }
   ],
   "source": [
    "plt.figure(figsize=(2,2))\n",
    "plt.rcParams['font.size'] = 7\n",
    "kwargs = {'wl_lb':100, 'wl_ub':1000,}\n",
    "pred_df = predictions_dict['b3lyp'][\"pred_df\"]\n",
    "pred_df\n",
    "\n",
    "x_vals = np.array(pred_df.loc[:, kwargs['wl_lb']+1:kwargs['wl_ub']].columns)\n",
    "print(x_vals.shape)\n",
    "distance_function  = lambda x,y : stats.wasserstein_distance (x_vals, x_vals, x,y)\n",
    "\n",
    "pred_df = predictions_dict['b3lyp'][\"pred_df\"]\n",
    "pred_df\n",
    "pred_scores = list(get_uniqueness(pred_df, distance_function, parse_spectra_peaks=False, topk_frac=1, **kwargs,\n",
    "                                 intensity_thresh=0) )\n",
    "pred_scores[0] = pred_scores[0][np.flip(np.argsort(pred_scores[1]))]\n",
    "pred_scores[1] = np.flip(np.sort(pred_scores[1]))\n",
    "mol_codes = [m.split('_')[0] for m in pred_scores[0]]\n",
    "exp_scores = get_uniqueness(exp_spec_df.loc[mol_codes,pred_df.columns], distance_function, parse_spectra_peaks=False, \n",
    "                            topk_frac = 1, intensity_thresh=0, **kwargs)\n",
    "\n",
    "ssr = sum([(y-x)**2 for x,y in zip(exp_scores[1], pred_scores[1])])\n",
    "sst = sum([(y-np.mean(pred_scores[1]))**2 for y in exp_scores[1]])\n",
    "print (ssr,sst, 1-ssr/sst)\n",
    "\n",
    "print (stats.pearsonr(exp_scores[1], pred_scores[1]).statistic**2)\n",
    "\n",
    "sns.jointplot(x=exp_scores[1], y=pred_scores[1], \n",
    "              s = 5, space=0, \n",
    "              color='black', height=3,#ratio=0.3, \n",
    "              hue=['black']*len(pred_scores[1]),palette=['black'], legend=False)\n",
    "all_scores = np.concatenate([exp_scores[1],pred_scores[1]])\n",
    "lims = (np.nanmin(all_scores)*0.8, np.nanmax(all_scores)*1.2)\n",
    "plt.plot(lims,lims, color='black')\n",
    "\n",
    "plt.xlim(*lims)\n",
    "plt.ylim(*lims)\n",
    "plt.show()\n",
    "plt.savefig('../../../../Manuscripts/HSI_manuscript/figure_imgs/{}_benchmark_b3lyp_wasserstein_photochemdb.pdf'.format(date_str))"
   ]
  },
  {
   "cell_type": "code",
   "execution_count": 76,
   "id": "d360aafa",
   "metadata": {},
   "outputs": [
    {
     "name": "stdout",
     "output_type": "stream",
     "text": [
      "(899,)\n",
      "Filtering spectrum dataframe\n",
      "Original dataframe dimensions: (50, 932)\n",
      "After filtering: (50, 899)\n",
      "scoring whole spectra\n",
      "Comparing to 50 molecules\n",
      "Filtering spectrum dataframe\n",
      "Original dataframe dimensions: (50, 932)\n",
      "After filtering: (50, 899)\n",
      "scoring whole spectra\n",
      "Comparing to 50 molecules\n",
      "22478.56131584497 90739.95512277131 0.7522749346147302\n",
      "0.7742418017802406\n"
     ]
    },
    {
     "data": {
      "text/plain": [
       "<Figure size 144x144 with 0 Axes>"
      ]
     },
     "metadata": {},
     "output_type": "display_data"
    },
    {
     "data": {
      "image/png": "[encoded data removed]",
      "text/plain": [
       "<Figure size 216x216 with 3 Axes>"
      ]
     },
     "metadata": {
      "needs_background": "light"
     },
     "output_type": "display_data"
    }
   ],
   "source": [
    "plt.figure(figsize=(2,2))\n",
    "plt.rcParams['font.size'] = 7\n",
    "kwargs = {'wl_lb':100, 'wl_ub':1000,}\n",
    "pred_df = predictions_dict['wb97xd'][\"pred_df\"]\n",
    "pred_df\n",
    "\n",
    "x_vals = np.array(pred_df.loc[:, kwargs['wl_lb']+1:kwargs['wl_ub']].columns)\n",
    "print(x_vals.shape)\n",
    "distance_function  = lambda x,y : stats.wasserstein_distance (x_vals, x_vals, x,y)\n",
    "\n",
    "pred_df = predictions_dict['wb97xd'][\"pred_df\"]\n",
    "pred_df\n",
    "pred_scores = list(get_uniqueness(pred_df, distance_function, parse_spectra_peaks=False, topk_frac=1, **kwargs,\n",
    "                                 intensity_thresh=0) )\n",
    "pred_scores[0] = pred_scores[0][np.flip(np.argsort(pred_scores[1]))]\n",
    "pred_scores[1] = np.flip(np.sort(pred_scores[1]))\n",
    "mol_codes = [m.split('_')[0] for m in pred_scores[0]]\n",
    "exp_scores = get_uniqueness(exp_spec_df.loc[mol_codes,pred_df.columns], distance_function, parse_spectra_peaks=False, \n",
    "                            topk_frac = 1, intensity_thresh=0, **kwargs)\n",
    "\n",
    "ssr = sum([(y-x)**2 for x,y in zip(exp_scores[1], pred_scores[1])])\n",
    "sst = sum([(y-np.mean(pred_scores[1]))**2 for y in exp_scores[1]])\n",
    "print (ssr,sst, 1-ssr/sst)\n",
    "\n",
    "print (stats.pearsonr(exp_scores[1], pred_scores[1]).statistic**2)\n",
    "\n",
    "sns.jointplot(x=exp_scores[1], y=pred_scores[1], \n",
    "              s = 5, space=0, \n",
    "              color='black', height=3,#ratio=0.3, \n",
    "              hue=['black']*len(pred_scores[1]),palette=['black'], legend=False)\n",
    "all_scores = np.concatenate([exp_scores[1],pred_scores[1]])\n",
    "lims = (np.nanmin(all_scores)*0.8, np.nanmax(all_scores)*1.2)\n",
    "plt.plot(lims,lims, color='black')\n",
    "\n",
    "plt.xlim(*lims)\n",
    "plt.ylim(*lims)\n",
    "plt.show()\n"
   ]
  },
  {
   "cell_type": "code",
   "execution_count": 75,
   "id": "8dba3d3e",
   "metadata": {},
   "outputs": [
    {
     "name": "stdout",
     "output_type": "stream",
     "text": [
      "(1176,)\n",
      "(1176,)\n",
      "5285832.153430634 8126893.161266243 0.34958759164897724\n"
     ]
    },
    {
     "data": {
      "image/png": "[encoded data removed]",
      "text/plain": [
       "<Figure size 216x216 with 3 Axes>"
      ]
     },
     "metadata": {
      "needs_background": "light"
     },
     "output_type": "display_data"
    }
   ],
   "source": [
    "from scipy.spatial import distance\n",
    "x_vals = np.array(pred_df.columns)\n",
    "distance_function  = lambda x,y : stats.wasserstein_distance (x_vals, x_vals, x,y)\n",
    "\n",
    "all_pred_wass = distance.pdist(pred_df.values[1:,:], metric=distance_function)\n",
    "mol_codes_for_all_preds = [x.split('_')[0] for x in pred_df.index]\n",
    "all_exp_wass = distance.pdist(exp_spec_df.loc[mol_codes_for_all_preds,pred_df.columns].values[1:,:], metric=distance_function)\n",
    "\n",
    "print (all_pred_wass.shape)\n",
    "print (all_exp_wass.shape)\n",
    "\n",
    "ssr = sum([(y-x)**2 for x,y in zip(all_exp_wass, all_pred_wass)])\n",
    "sst = sum([(y-np.mean(all_pred_wass))**2 for y in all_exp_wass])\n",
    "print (ssr,sst, 1-ssr/sst)\n",
    "\n",
    "sns.jointplot(x=all_exp_wass, y=all_pred_wass, \n",
    "              s = 5, space=0, \n",
    "              color='black', height=3,#ratio=0.3, \n",
    "              hue=['black']*len(all_exp_wass),palette=['black'], legend=False)\n",
    "\n",
    "lims = [0,np.max([all_pred_wass, all_exp_wass])]\n",
    "plt.xlim(*lims)\n",
    "plt.ylim(*lims)\n",
    "plt.plot(lims,lims, color='black')\n",
    "plt.show()"
   ]
  },
  {
   "cell_type": "code",
   "execution_count": 70,
   "id": "4eb9ffaa",
   "metadata": {},
   "outputs": [
    {
     "data": {
      "application/vnd.plotly.v1+json": {
       "config": {
        "plotlyServerURL": "https://plot.ly"
       },
       "data": [
        {
         "hovertemplate": "<b>%{hovertext}</b><br><br>x=%{x}<br>y=%{y}<extra></extra>",
         "hovertext": [
          "T16",
          "D10",
          "O11",
          "T01",
          "T02",
          "R04",
          "T03",
          "T04",
          "F01",
          "D09",
          "G20",
          "A02",
          "A10",
          "A05",
          "F14",
          "D08",
          "A11",
          "G02",
          "F17",
          "F04",
          "O10",
          "G12",
          "F16",
          "I06",
          "F13",
          "F18",
          "A14",
          "F02",
          "A22",
          "F12",
          "F09",
          "F10",
          "E26",
          "O09",
          "F03",
          "A13",
          "F08",
          "H03",
          "F15",
          "F07",
          "H14",
          "F06",
          "G15",
          "A27",
          "G01",
          "F05",
          "O13",
          "H01",
          "H02"
         ],
         "legendgroup": "",
         "marker": {
          "color": "#636efa",
          "symbol": "circle"
         },
         "mode": "markers",
         "name": "",
         "orientation": "v",
         "showlegend": false,
         "type": "scatter",
         "x": [
          264.74854916799586,
          118.59005165099931,
          157.28640453598493,
          171.73650014341123,
          169.61680576705254,
          137.0528245216203,
          158.15646396970536,
          152.656425630318,
          58.93002052312087,
          75.6962162176064,
          69.73981571018804,
          58.62008656337173,
          58.0680004489951,
          57.73602017867993,
          75.90743144470794,
          108.43836741900195,
          74.00688895824182,
          65.27087616133196,
          57.685130877115974,
          87.37097462532601,
          118.8966732394516,
          59.17824880562488,
          77.68413751027356,
          62.186397797885604,
          78.0864161680409,
          59.52490716276864,
          73.03118020850657,
          59.39286144198579,
          61.74475579612213,
          63.91516125971242,
          56.65739944962373,
          57.779362729755285,
          81.30874089416159,
          60.30945405475654,
          58.14511040550897,
          64.3021986315306,
          56.83587834731812,
          66.44667296346817,
          56.34839074601485,
          56.09300377472982,
          64.85788870344976,
          57.986784853763936,
          60.448937601259246,
          58.115072481902565,
          67.51983540596534,
          57.09862028932978,
          64.9271905653224,
          57.64809609034913,
          57.126711450634225
         ],
         "xaxis": "x",
         "y": [
          312.09119141067606,
          279.9537170525982,
          216.15466697013804,
          188.10341227756274,
          176.48439881047008,
          156.119657447162,
          150.02711465706454,
          147.64654294734294,
          147.16662840100685,
          140.03153939319475,
          126.69823666271536,
          123.36630051936909,
          120.3972259000724,
          118.82638489630897,
          118.34144608805359,
          118.14975784407473,
          116.58111000774352,
          112.31808241674817,
          109.90525540313912,
          108.74963187223136,
          106.99478204647278,
          105.47786502931235,
          103.05570498653826,
          99.87196571769107,
          99.77777520217943,
          95.54333934320535,
          95.35454083249488,
          95.26986644942474,
          94.26125210033884,
          93.21206867461899,
          93.21206867461899,
          90.28708863580567,
          89.72447454078252,
          89.68255193049846,
          89.52451632184206,
          89.15611182471689,
          88.23336605487545,
          86.73282501279779,
          86.48118587475403,
          86.27336978345743,
          86.25754681920056,
          85.8300973669176,
          85.58824778444658,
          84.21321076221714,
          84.13207144578725,
          83.93874384884013,
          83.86177974056918,
          83.86094027607578,
          83.640729924493
         ],
         "yaxis": "y"
        }
       ],
       "layout": {
        "legend": {
         "tracegroupgap": 0
        },
        "margin": {
         "t": 60
        },
        "template": {
         "data": {
          "bar": [
           {
            "error_x": {
             "color": "#2a3f5f"
            },
            "error_y": {
             "color": "#2a3f5f"
            },
            "marker": {
             "line": {
              "color": "#E5ECF6",
              "width": 0.5
             },
             "pattern": {
              "fillmode": "overlay",
              "size": 10,
              "solidity": 0.2
             }
            },
            "type": "bar"
           }
          ],
          "barpolar": [
           {
            "marker": {
             "line": {
              "color": "#E5ECF6",
              "width": 0.5
             },
             "pattern": {
              "fillmode": "overlay",
              "size": 10,
              "solidity": 0.2
             }
            },
            "type": "barpolar"
           }
          ],
          "carpet": [
           {
            "aaxis": {
             "endlinecolor": "#2a3f5f",
             "gridcolor": "white",
             "linecolor": "white",
             "minorgridcolor": "white",
             "startlinecolor": "#2a3f5f"
            },
            "baxis": {
             "endlinecolor": "#2a3f5f",
             "gridcolor": "white",
             "linecolor": "white",
             "minorgridcolor": "white",
             "startlinecolor": "#2a3f5f"
            },
            "type": "carpet"
           }
          ],
          "choropleth": [
           {
            "colorbar": {
             "outlinewidth": 0,
             "ticks": ""
            },
            "type": "choropleth"
           }
          ],
          "contour": [
           {
            "colorbar": {
             "outlinewidth": 0,
             "ticks": ""
            },
            "colorscale": [
             [
              0,
              "#0d0887"
             ],
             [
              0.1111111111111111,
              "#46039f"
             ],
             [
              0.2222222222222222,
              "#7201a8"
             ],
             [
              0.3333333333333333,
              "#9c179e"
             ],
             [
              0.4444444444444444,
              "#bd3786"
             ],
             [
              0.5555555555555556,
              "#d8576b"
             ],
             [
              0.6666666666666666,
              "#ed7953"
             ],
             [
              0.7777777777777778,
              "#fb9f3a"
             ],
             [
              0.8888888888888888,
              "#fdca26"
             ],
             [
              1,
              "#f0f921"
             ]
            ],
            "type": "contour"
           }
          ],
          "contourcarpet": [
           {
            "colorbar": {
             "outlinewidth": 0,
             "ticks": ""
            },
            "type": "contourcarpet"
           }
          ],
          "heatmap": [
           {
            "colorbar": {
             "outlinewidth": 0,
             "ticks": ""
            },
            "colorscale": [
             [
              0,
              "#0d0887"
             ],
             [
              0.1111111111111111,
              "#46039f"
             ],
             [
              0.2222222222222222,
              "#7201a8"
             ],
             [
              0.3333333333333333,
              "#9c179e"
             ],
             [
              0.4444444444444444,
              "#bd3786"
             ],
             [
              0.5555555555555556,
              "#d8576b"
             ],
             [
              0.6666666666666666,
              "#ed7953"
             ],
             [
              0.7777777777777778,
              "#fb9f3a"
             ],
             [
              0.8888888888888888,
              "#fdca26"
             ],
             [
              1,
              "#f0f921"
             ]
            ],
            "type": "heatmap"
           }
          ],
          "heatmapgl": [
           {
            "colorbar": {
             "outlinewidth": 0,
             "ticks": ""
            },
            "colorscale": [
             [
              0,
              "#0d0887"
             ],
             [
              0.1111111111111111,
              "#46039f"
             ],
             [
              0.2222222222222222,
              "#7201a8"
             ],
             [
              0.3333333333333333,
              "#9c179e"
             ],
             [
              0.4444444444444444,
              "#bd3786"
             ],
             [
              0.5555555555555556,
              "#d8576b"
             ],
             [
              0.6666666666666666,
              "#ed7953"
             ],
             [
              0.7777777777777778,
              "#fb9f3a"
             ],
             [
              0.8888888888888888,
              "#fdca26"
             ],
             [
              1,
              "#f0f921"
             ]
            ],
            "type": "heatmapgl"
           }
          ],
          "histogram": [
           {
            "marker": {
             "pattern": {
              "fillmode": "overlay",
              "size": 10,
              "solidity": 0.2
             }
            },
            "type": "histogram"
           }
          ],
          "histogram2d": [
           {
            "colorbar": {
             "outlinewidth": 0,
             "ticks": ""
            },
            "colorscale": [
             [
              0,
              "#0d0887"
             ],
             [
              0.1111111111111111,
              "#46039f"
             ],
             [
              0.2222222222222222,
              "#7201a8"
             ],
             [
              0.3333333333333333,
              "#9c179e"
             ],
             [
              0.4444444444444444,
              "#bd3786"
             ],
             [
              0.5555555555555556,
              "#d8576b"
             ],
             [
              0.6666666666666666,
              "#ed7953"
             ],
             [
              0.7777777777777778,
              "#fb9f3a"
             ],
             [
              0.8888888888888888,
              "#fdca26"
             ],
             [
              1,
              "#f0f921"
             ]
            ],
            "type": "histogram2d"
           }
          ],
          "histogram2dcontour": [
           {
            "colorbar": {
             "outlinewidth": 0,
             "ticks": ""
            },
            "colorscale": [
             [
              0,
              "#0d0887"
             ],
             [
              0.1111111111111111,
              "#46039f"
             ],
             [
              0.2222222222222222,
              "#7201a8"
             ],
             [
              0.3333333333333333,
              "#9c179e"
             ],
             [
              0.4444444444444444,
              "#bd3786"
             ],
             [
              0.5555555555555556,
              "#d8576b"
             ],
             [
              0.6666666666666666,
              "#ed7953"
             ],
             [
              0.7777777777777778,
              "#fb9f3a"
             ],
             [
              0.8888888888888888,
              "#fdca26"
             ],
             [
              1,
              "#f0f921"
             ]
            ],
            "type": "histogram2dcontour"
           }
          ],
          "mesh3d": [
           {
            "colorbar": {
             "outlinewidth": 0,
             "ticks": ""
            },
            "type": "mesh3d"
           }
          ],
          "parcoords": [
           {
            "line": {
             "colorbar": {
              "outlinewidth": 0,
              "ticks": ""
             }
            },
            "type": "parcoords"
           }
          ],
          "pie": [
           {
            "automargin": true,
            "type": "pie"
           }
          ],
          "scatter": [
           {
            "fillpattern": {
             "fillmode": "overlay",
             "size": 10,
             "solidity": 0.2
            },
            "type": "scatter"
           }
          ],
          "scatter3d": [
           {
            "line": {
             "colorbar": {
              "outlinewidth": 0,
              "ticks": ""
             }
            },
            "marker": {
             "colorbar": {
              "outlinewidth": 0,
              "ticks": ""
             }
            },
            "type": "scatter3d"
           }
          ],
          "scattercarpet": [
           {
            "marker": {
             "colorbar": {
              "outlinewidth": 0,
              "ticks": ""
             }
            },
            "type": "scattercarpet"
           }
          ],
          "scattergeo": [
           {
            "marker": {
             "colorbar": {
              "outlinewidth": 0,
              "ticks": ""
             }
            },
            "type": "scattergeo"
           }
          ],
          "scattergl": [
           {
            "marker": {
             "colorbar": {
              "outlinewidth": 0,
              "ticks": ""
             }
            },
            "type": "scattergl"
           }
          ],
          "scattermapbox": [
           {
            "marker": {
             "colorbar": {
              "outlinewidth": 0,
              "ticks": ""
             }
            },
            "type": "scattermapbox"
           }
          ],
          "scatterpolar": [
           {
            "marker": {
             "colorbar": {
              "outlinewidth": 0,
              "ticks": ""
             }
            },
            "type": "scatterpolar"
           }
          ],
          "scatterpolargl": [
           {
            "marker": {
             "colorbar": {
              "outlinewidth": 0,
              "ticks": ""
             }
            },
            "type": "scatterpolargl"
           }
          ],
          "scatterternary": [
           {
            "marker": {
             "colorbar": {
              "outlinewidth": 0,
              "ticks": ""
             }
            },
            "type": "scatterternary"
           }
          ],
          "surface": [
           {
            "colorbar": {
             "outlinewidth": 0,
             "ticks": ""
            },
            "colorscale": [
             [
              0,
              "#0d0887"
             ],
             [
              0.1111111111111111,
              "#46039f"
             ],
             [
              0.2222222222222222,
              "#7201a8"
             ],
             [
              0.3333333333333333,
              "#9c179e"
             ],
             [
              0.4444444444444444,
              "#bd3786"
             ],
             [
              0.5555555555555556,
              "#d8576b"
             ],
             [
              0.6666666666666666,
              "#ed7953"
             ],
             [
              0.7777777777777778,
              "#fb9f3a"
             ],
             [
              0.8888888888888888,
              "#fdca26"
             ],
             [
              1,
              "#f0f921"
             ]
            ],
            "type": "surface"
           }
          ],
          "table": [
           {
            "cells": {
             "fill": {
              "color": "#EBF0F8"
             },
             "line": {
              "color": "white"
             }
            },
            "header": {
             "fill": {
              "color": "#C8D4E3"
             },
             "line": {
              "color": "white"
             }
            },
            "type": "table"
           }
          ]
         },
         "layout": {
          "annotationdefaults": {
           "arrowcolor": "#2a3f5f",
           "arrowhead": 0,
           "arrowwidth": 1
          },
          "autotypenumbers": "strict",
          "coloraxis": {
           "colorbar": {
            "outlinewidth": 0,
            "ticks": ""
           }
          },
          "colorscale": {
           "diverging": [
            [
             0,
             "#8e0152"
            ],
            [
             0.1,
             "#c51b7d"
            ],
            [
             0.2,
             "#de77ae"
            ],
            [
             0.3,
             "#f1b6da"
            ],
            [
             0.4,
             "#fde0ef"
            ],
            [
             0.5,
             "#f7f7f7"
            ],
            [
             0.6,
             "#e6f5d0"
            ],
            [
             0.7,
             "#b8e186"
            ],
            [
             0.8,
             "#7fbc41"
            ],
            [
             0.9,
             "#4d9221"
            ],
            [
             1,
             "#276419"
            ]
           ],
           "sequential": [
            [
             0,
             "#0d0887"
            ],
            [
             0.1111111111111111,
             "#46039f"
            ],
            [
             0.2222222222222222,
             "#7201a8"
            ],
            [
             0.3333333333333333,
             "#9c179e"
            ],
            [
             0.4444444444444444,
             "#bd3786"
            ],
            [
             0.5555555555555556,
             "#d8576b"
            ],
            [
             0.6666666666666666,
             "#ed7953"
            ],
            [
             0.7777777777777778,
             "#fb9f3a"
            ],
            [
             0.8888888888888888,
             "#fdca26"
            ],
            [
             1,
             "#f0f921"
            ]
           ],
           "sequentialminus": [
            [
             0,
             "#0d0887"
            ],
            [
             0.1111111111111111,
             "#46039f"
            ],
            [
             0.2222222222222222,
             "#7201a8"
            ],
            [
             0.3333333333333333,
             "#9c179e"
            ],
            [
             0.4444444444444444,
             "#bd3786"
            ],
            [
             0.5555555555555556,
             "#d8576b"
            ],
            [
             0.6666666666666666,
             "#ed7953"
            ],
            [
             0.7777777777777778,
             "#fb9f3a"
            ],
            [
             0.8888888888888888,
             "#fdca26"
            ],
            [
             1,
             "#f0f921"
            ]
           ]
          },
          "colorway": [
           "#636efa",
           "#EF553B",
           "#00cc96",
           "#ab63fa",
           "#FFA15A",
           "#19d3f3",
           "#FF6692",
           "#B6E880",
           "#FF97FF",
           "#FECB52"
          ],
          "font": {
           "color": "#2a3f5f"
          },
          "geo": {
           "bgcolor": "white",
           "lakecolor": "white",
           "landcolor": "#E5ECF6",
           "showlakes": true,
           "showland": true,
           "subunitcolor": "white"
          },
          "hoverlabel": {
           "align": "left"
          },
          "hovermode": "closest",
          "mapbox": {
           "style": "light"
          },
          "paper_bgcolor": "white",
          "plot_bgcolor": "#E5ECF6",
          "polar": {
           "angularaxis": {
            "gridcolor": "white",
            "linecolor": "white",
            "ticks": ""
           },
           "bgcolor": "#E5ECF6",
           "radialaxis": {
            "gridcolor": "white",
            "linecolor": "white",
            "ticks": ""
           }
          },
          "scene": {
           "xaxis": {
            "backgroundcolor": "#E5ECF6",
            "gridcolor": "white",
            "gridwidth": 2,
            "linecolor": "white",
            "showbackground": true,
            "ticks": "",
            "zerolinecolor": "white"
           },
           "yaxis": {
            "backgroundcolor": "#E5ECF6",
            "gridcolor": "white",
            "gridwidth": 2,
            "linecolor": "white",
            "showbackground": true,
            "ticks": "",
            "zerolinecolor": "white"
           },
           "zaxis": {
            "backgroundcolor": "#E5ECF6",
            "gridcolor": "white",
            "gridwidth": 2,
            "linecolor": "white",
            "showbackground": true,
            "ticks": "",
            "zerolinecolor": "white"
           }
          },
          "shapedefaults": {
           "line": {
            "color": "#2a3f5f"
           }
          },
          "ternary": {
           "aaxis": {
            "gridcolor": "white",
            "linecolor": "white",
            "ticks": ""
           },
           "baxis": {
            "gridcolor": "white",
            "linecolor": "white",
            "ticks": ""
           },
           "bgcolor": "#E5ECF6",
           "caxis": {
            "gridcolor": "white",
            "linecolor": "white",
            "ticks": ""
           }
          },
          "title": {
           "x": 0.05
          },
          "xaxis": {
           "automargin": true,
           "gridcolor": "white",
           "linecolor": "white",
           "ticks": "",
           "title": {
            "standoff": 15
           },
           "zerolinecolor": "white",
           "zerolinewidth": 2
          },
          "yaxis": {
           "automargin": true,
           "gridcolor": "white",
           "linecolor": "white",
           "ticks": "",
           "title": {
            "standoff": 15
           },
           "zerolinecolor": "white",
           "zerolinewidth": 2
          }
         }
        },
        "xaxis": {
         "anchor": "y",
         "domain": [
          0,
          1
         ],
         "title": {
          "text": "x"
         }
        },
        "yaxis": {
         "anchor": "x",
         "domain": [
          0,
          1
         ],
         "title": {
          "text": "y"
         }
        }
       }
      },
      "text/html": [
       "<div>                            <div id=\"e82bac69-457b-4d77-b266-d5ecf8e1ff94\" class=\"plotly-graph-div\" style=\"height:525px; width:100%;\"></div>            <script type=\"text/javascript\">                require([\"plotly\"], function(Plotly) {                    window.PLOTLYENV=window.PLOTLYENV || {};                                    if (document.getElementById(\"e82bac69-457b-4d77-b266-d5ecf8e1ff94\")) {                    Plotly.newPlot(                        \"e82bac69-457b-4d77-b266-d5ecf8e1ff94\",                        [{\"hovertemplate\":\"<b>%{hovertext}</b><br><br>x=%{x}<br>y=%{y}<extra></extra>\",\"hovertext\":[\"T16\",\"D10\",\"O11\",\"T01\",\"T02\",\"R04\",\"T03\",\"T04\",\"F01\",\"D09\",\"G20\",\"A02\",\"A10\",\"A05\",\"F14\",\"D08\",\"A11\",\"G02\",\"F17\",\"F04\",\"O10\",\"G12\",\"F16\",\"I06\",\"F13\",\"F18\",\"A14\",\"F02\",\"A22\",\"F12\",\"F09\",\"F10\",\"E26\",\"O09\",\"F03\",\"A13\",\"F08\",\"H03\",\"F15\",\"F07\",\"H14\",\"F06\",\"G15\",\"A27\",\"G01\",\"F05\",\"O13\",\"H01\",\"H02\"],\"legendgroup\":\"\",\"marker\":{\"color\":\"#636efa\",\"symbol\":\"circle\"},\"mode\":\"markers\",\"name\":\"\",\"orientation\":\"v\",\"showlegend\":false,\"x\":[264.74854916799586,118.59005165099931,157.28640453598493,171.73650014341123,169.61680576705254,137.0528245216203,158.15646396970536,152.656425630318,58.93002052312087,75.6962162176064,69.73981571018804,58.62008656337173,58.0680004489951,57.73602017867993,75.90743144470794,108.43836741900195,74.00688895824182,65.27087616133196,57.685130877115974,87.37097462532601,118.8966732394516,59.17824880562488,77.68413751027356,62.186397797885604,78.0864161680409,59.52490716276864,73.03118020850657,59.39286144198579,61.74475579612213,63.91516125971242,56.65739944962373,57.779362729755285,81.30874089416159,60.30945405475654,58.14511040550897,64.3021986315306,56.83587834731812,66.44667296346817,56.34839074601485,56.09300377472982,64.85788870344976,57.986784853763936,60.448937601259246,58.115072481902565,67.51983540596534,57.09862028932978,64.9271905653224,57.64809609034913,57.126711450634225],\"xaxis\":\"x\",\"y\":[312.09119141067606,279.9537170525982,216.15466697013804,188.10341227756274,176.48439881047008,156.119657447162,150.02711465706454,147.64654294734294,147.16662840100685,140.03153939319475,126.69823666271536,123.36630051936909,120.3972259000724,118.82638489630897,118.34144608805359,118.14975784407473,116.58111000774352,112.31808241674817,109.90525540313912,108.74963187223136,106.99478204647278,105.47786502931235,103.05570498653826,99.87196571769107,99.77777520217943,95.54333934320535,95.35454083249488,95.26986644942474,94.26125210033884,93.21206867461899,93.21206867461899,90.28708863580567,89.72447454078252,89.68255193049846,89.52451632184206,89.15611182471689,88.23336605487545,86.73282501279779,86.48118587475403,86.27336978345743,86.25754681920056,85.8300973669176,85.58824778444658,84.21321076221714,84.13207144578725,83.93874384884013,83.86177974056918,83.86094027607578,83.640729924493],\"yaxis\":\"y\",\"type\":\"scatter\"}],                        {\"template\":{\"data\":{\"histogram2dcontour\":[{\"type\":\"histogram2dcontour\",\"colorbar\":{\"outlinewidth\":0,\"ticks\":\"\"},\"colorscale\":[[0.0,\"#0d0887\"],[0.1111111111111111,\"#46039f\"],[0.2222222222222222,\"#7201a8\"],[0.3333333333333333,\"#9c179e\"],[0.4444444444444444,\"#bd3786\"],[0.5555555555555556,\"#d8576b\"],[0.6666666666666666,\"#ed7953\"],[0.7777777777777778,\"#fb9f3a\"],[0.8888888888888888,\"#fdca26\"],[1.0,\"#f0f921\"]]}],\"choropleth\":[{\"type\":\"choropleth\",\"colorbar\":{\"outlinewidth\":0,\"ticks\":\"\"}}],\"histogram2d\":[{\"type\":\"histogram2d\",\"colorbar\":{\"outlinewidth\":0,\"ticks\":\"\"},\"colorscale\":[[0.0,\"#0d0887\"],[0.1111111111111111,\"#46039f\"],[0.2222222222222222,\"#7201a8\"],[0.3333333333333333,\"#9c179e\"],[0.4444444444444444,\"#bd3786\"],[0.5555555555555556,\"#d8576b\"],[0.6666666666666666,\"#ed7953\"],[0.7777777777777778,\"#fb9f3a\"],[0.8888888888888888,\"#fdca26\"],[1.0,\"#f0f921\"]]}],\"heatmap\":[{\"type\":\"heatmap\",\"colorbar\":{\"outlinewidth\":0,\"ticks\":\"\"},\"colorscale\":[[0.0,\"#0d0887\"],[0.1111111111111111,\"#46039f\"],[0.2222222222222222,\"#7201a8\"],[0.3333333333333333,\"#9c179e\"],[0.4444444444444444,\"#bd3786\"],[0.5555555555555556,\"#d8576b\"],[0.6666666666666666,\"#ed7953\"],[0.7777777777777778,\"#fb9f3a\"],[0.8888888888888888,\"#fdca26\"],[1.0,\"#f0f921\"]]}],\"heatmapgl\":[{\"type\":\"heatmapgl\",\"colorbar\":{\"outlinewidth\":0,\"ticks\":\"\"},\"colorscale\":[[0.0,\"#0d0887\"],[0.1111111111111111,\"#46039f\"],[0.2222222222222222,\"#7201a8\"],[0.3333333333333333,\"#9c179e\"],[0.4444444444444444,\"#bd3786\"],[0.5555555555555556,\"#d8576b\"],[0.6666666666666666,\"#ed7953\"],[0.7777777777777778,\"#fb9f3a\"],[0.8888888888888888,\"#fdca26\"],[1.0,\"#f0f921\"]]}],\"contourcarpet\":[{\"type\":\"contourcarpet\",\"colorbar\":{\"outlinewidth\":0,\"ticks\":\"\"}}],\"contour\":[{\"type\":\"contour\",\"colorbar\":{\"outlinewidth\":0,\"ticks\":\"\"},\"colorscale\":[[0.0,\"#0d0887\"],[0.1111111111111111,\"#46039f\"],[0.2222222222222222,\"#7201a8\"],[0.3333333333333333,\"#9c179e\"],[0.4444444444444444,\"#bd3786\"],[0.5555555555555556,\"#d8576b\"],[0.6666666666666666,\"#ed7953\"],[0.7777777777777778,\"#fb9f3a\"],[0.8888888888888888,\"#fdca26\"],[1.0,\"#f0f921\"]]}],\"surface\":[{\"type\":\"surface\",\"colorbar\":{\"outlinewidth\":0,\"ticks\":\"\"},\"colorscale\":[[0.0,\"#0d0887\"],[0.1111111111111111,\"#46039f\"],[0.2222222222222222,\"#7201a8\"],[0.3333333333333333,\"#9c179e\"],[0.4444444444444444,\"#bd3786\"],[0.5555555555555556,\"#d8576b\"],[0.6666666666666666,\"#ed7953\"],[0.7777777777777778,\"#fb9f3a\"],[0.8888888888888888,\"#fdca26\"],[1.0,\"#f0f921\"]]}],\"mesh3d\":[{\"type\":\"mesh3d\",\"colorbar\":{\"outlinewidth\":0,\"ticks\":\"\"}}],\"scatter\":[{\"fillpattern\":{\"fillmode\":\"overlay\",\"size\":10,\"solidity\":0.2},\"type\":\"scatter\"}],\"parcoords\":[{\"type\":\"parcoords\",\"line\":{\"colorbar\":{\"outlinewidth\":0,\"ticks\":\"\"}}}],\"scatterpolargl\":[{\"type\":\"scatterpolargl\",\"marker\":{\"colorbar\":{\"outlinewidth\":0,\"ticks\":\"\"}}}],\"bar\":[{\"error_x\":{\"color\":\"#2a3f5f\"},\"error_y\":{\"color\":\"#2a3f5f\"},\"marker\":{\"line\":{\"color\":\"#E5ECF6\",\"width\":0.5},\"pattern\":{\"fillmode\":\"overlay\",\"size\":10,\"solidity\":0.2}},\"type\":\"bar\"}],\"scattergeo\":[{\"type\":\"scattergeo\",\"marker\":{\"colorbar\":{\"outlinewidth\":0,\"ticks\":\"\"}}}],\"scatterpolar\":[{\"type\":\"scatterpolar\",\"marker\":{\"colorbar\":{\"outlinewidth\":0,\"ticks\":\"\"}}}],\"histogram\":[{\"marker\":{\"pattern\":{\"fillmode\":\"overlay\",\"size\":10,\"solidity\":0.2}},\"type\":\"histogram\"}],\"scattergl\":[{\"type\":\"scattergl\",\"marker\":{\"colorbar\":{\"outlinewidth\":0,\"ticks\":\"\"}}}],\"scatter3d\":[{\"type\":\"scatter3d\",\"line\":{\"colorbar\":{\"outlinewidth\":0,\"ticks\":\"\"}},\"marker\":{\"colorbar\":{\"outlinewidth\":0,\"ticks\":\"\"}}}],\"scattermapbox\":[{\"type\":\"scattermapbox\",\"marker\":{\"colorbar\":{\"outlinewidth\":0,\"ticks\":\"\"}}}],\"scatterternary\":[{\"type\":\"scatterternary\",\"marker\":{\"colorbar\":{\"outlinewidth\":0,\"ticks\":\"\"}}}],\"scattercarpet\":[{\"type\":\"scattercarpet\",\"marker\":{\"colorbar\":{\"outlinewidth\":0,\"ticks\":\"\"}}}],\"carpet\":[{\"aaxis\":{\"endlinecolor\":\"#2a3f5f\",\"gridcolor\":\"white\",\"linecolor\":\"white\",\"minorgridcolor\":\"white\",\"startlinecolor\":\"#2a3f5f\"},\"baxis\":{\"endlinecolor\":\"#2a3f5f\",\"gridcolor\":\"white\",\"linecolor\":\"white\",\"minorgridcolor\":\"white\",\"startlinecolor\":\"#2a3f5f\"},\"type\":\"carpet\"}],\"table\":[{\"cells\":{\"fill\":{\"color\":\"#EBF0F8\"},\"line\":{\"color\":\"white\"}},\"header\":{\"fill\":{\"color\":\"#C8D4E3\"},\"line\":{\"color\":\"white\"}},\"type\":\"table\"}],\"barpolar\":[{\"marker\":{\"line\":{\"color\":\"#E5ECF6\",\"width\":0.5},\"pattern\":{\"fillmode\":\"overlay\",\"size\":10,\"solidity\":0.2}},\"type\":\"barpolar\"}],\"pie\":[{\"automargin\":true,\"type\":\"pie\"}]},\"layout\":{\"autotypenumbers\":\"strict\",\"colorway\":[\"#636efa\",\"#EF553B\",\"#00cc96\",\"#ab63fa\",\"#FFA15A\",\"#19d3f3\",\"#FF6692\",\"#B6E880\",\"#FF97FF\",\"#FECB52\"],\"font\":{\"color\":\"#2a3f5f\"},\"hovermode\":\"closest\",\"hoverlabel\":{\"align\":\"left\"},\"paper_bgcolor\":\"white\",\"plot_bgcolor\":\"#E5ECF6\",\"polar\":{\"bgcolor\":\"#E5ECF6\",\"angularaxis\":{\"gridcolor\":\"white\",\"linecolor\":\"white\",\"ticks\":\"\"},\"radialaxis\":{\"gridcolor\":\"white\",\"linecolor\":\"white\",\"ticks\":\"\"}},\"ternary\":{\"bgcolor\":\"#E5ECF6\",\"aaxis\":{\"gridcolor\":\"white\",\"linecolor\":\"white\",\"ticks\":\"\"},\"baxis\":{\"gridcolor\":\"white\",\"linecolor\":\"white\",\"ticks\":\"\"},\"caxis\":{\"gridcolor\":\"white\",\"linecolor\":\"white\",\"ticks\":\"\"}},\"coloraxis\":{\"colorbar\":{\"outlinewidth\":0,\"ticks\":\"\"}},\"colorscale\":{\"sequential\":[[0.0,\"#0d0887\"],[0.1111111111111111,\"#46039f\"],[0.2222222222222222,\"#7201a8\"],[0.3333333333333333,\"#9c179e\"],[0.4444444444444444,\"#bd3786\"],[0.5555555555555556,\"#d8576b\"],[0.6666666666666666,\"#ed7953\"],[0.7777777777777778,\"#fb9f3a\"],[0.8888888888888888,\"#fdca26\"],[1.0,\"#f0f921\"]],\"sequentialminus\":[[0.0,\"#0d0887\"],[0.1111111111111111,\"#46039f\"],[0.2222222222222222,\"#7201a8\"],[0.3333333333333333,\"#9c179e\"],[0.4444444444444444,\"#bd3786\"],[0.5555555555555556,\"#d8576b\"],[0.6666666666666666,\"#ed7953\"],[0.7777777777777778,\"#fb9f3a\"],[0.8888888888888888,\"#fdca26\"],[1.0,\"#f0f921\"]],\"diverging\":[[0,\"#8e0152\"],[0.1,\"#c51b7d\"],[0.2,\"#de77ae\"],[0.3,\"#f1b6da\"],[0.4,\"#fde0ef\"],[0.5,\"#f7f7f7\"],[0.6,\"#e6f5d0\"],[0.7,\"#b8e186\"],[0.8,\"#7fbc41\"],[0.9,\"#4d9221\"],[1,\"#276419\"]]},\"xaxis\":{\"gridcolor\":\"white\",\"linecolor\":\"white\",\"ticks\":\"\",\"title\":{\"standoff\":15},\"zerolinecolor\":\"white\",\"automargin\":true,\"zerolinewidth\":2},\"yaxis\":{\"gridcolor\":\"white\",\"linecolor\":\"white\",\"ticks\":\"\",\"title\":{\"standoff\":15},\"zerolinecolor\":\"white\",\"automargin\":true,\"zerolinewidth\":2},\"scene\":{\"xaxis\":{\"backgroundcolor\":\"#E5ECF6\",\"gridcolor\":\"white\",\"linecolor\":\"white\",\"showbackground\":true,\"ticks\":\"\",\"zerolinecolor\":\"white\",\"gridwidth\":2},\"yaxis\":{\"backgroundcolor\":\"#E5ECF6\",\"gridcolor\":\"white\",\"linecolor\":\"white\",\"showbackground\":true,\"ticks\":\"\",\"zerolinecolor\":\"white\",\"gridwidth\":2},\"zaxis\":{\"backgroundcolor\":\"#E5ECF6\",\"gridcolor\":\"white\",\"linecolor\":\"white\",\"showbackground\":true,\"ticks\":\"\",\"zerolinecolor\":\"white\",\"gridwidth\":2}},\"shapedefaults\":{\"line\":{\"color\":\"#2a3f5f\"}},\"annotationdefaults\":{\"arrowcolor\":\"#2a3f5f\",\"arrowhead\":0,\"arrowwidth\":1},\"geo\":{\"bgcolor\":\"white\",\"landcolor\":\"#E5ECF6\",\"subunitcolor\":\"white\",\"showland\":true,\"showlakes\":true,\"lakecolor\":\"white\"},\"title\":{\"x\":0.05},\"mapbox\":{\"style\":\"light\"}}},\"xaxis\":{\"anchor\":\"y\",\"domain\":[0.0,1.0],\"title\":{\"text\":\"x\"}},\"yaxis\":{\"anchor\":\"x\",\"domain\":[0.0,1.0],\"title\":{\"text\":\"y\"}},\"legend\":{\"tracegroupgap\":0},\"margin\":{\"t\":60}},                        {\"responsive\": true}                    ).then(function(){\n",
       "                            \n",
       "var gd = document.getElementById('e82bac69-457b-4d77-b266-d5ecf8e1ff94');\n",
       "var x = new MutationObserver(function (mutations, observer) {{\n",
       "        var display = window.getComputedStyle(gd).display;\n",
       "        if (!display || display === 'none') {{\n",
       "            console.log([gd, 'removed!']);\n",
       "            Plotly.purge(gd);\n",
       "            observer.disconnect();\n",
       "        }}\n",
       "}});\n",
       "\n",
       "// Listen for the removal of the full notebook cells\n",
       "var notebookContainer = gd.closest('#notebook-container');\n",
       "if (notebookContainer) {{\n",
       "    x.observe(notebookContainer, {childList: true});\n",
       "}}\n",
       "\n",
       "// Listen for the clearing of the current output cell\n",
       "var outputEl = gd.closest('.output');\n",
       "if (outputEl) {{\n",
       "    x.observe(outputEl, {childList: true});\n",
       "}}\n",
       "\n",
       "                        })                };                });            </script>        </div>"
      ]
     },
     "metadata": {},
     "output_type": "display_data"
    }
   ],
   "source": [
    "import plotly.express as px\n",
    "px.scatter(x=exp_scores[1], y=pred_scores[1], hover_name=exp_scores[0])"
   ]
  },
  {
   "cell_type": "code",
   "execution_count": 71,
   "id": "f5470cd6",
   "metadata": {},
   "outputs": [
    {
     "data": {
      "image/png": "[encoded data removed]",
      "text/plain": [
       "<Figure size 532.8x561.6 with 49 Axes>"
      ]
     },
     "metadata": {
      "needs_background": "light"
     },
     "output_type": "display_data"
    }
   ],
   "source": [
    "num_columns = 7\n",
    "num_rows = int(np.ceil(len(mol_codes) / num_columns))\n",
    "\n",
    "cmap = plt.get_cmap('tab10')\n",
    "f, ax = plt.subplots(num_rows, num_columns, figsize=(7.4, 7.8))\n",
    "\n",
    "for i, c in enumerate(mol_codes):\n",
    "    row = i // num_columns\n",
    "    col = i % num_columns\n",
    "\n",
    "    try:\n",
    "        \n",
    "#         pred_spec = \n",
    "        \n",
    "        ax[row, col].plot(predictions_dict['b3lyp']['pred_df'].columns, (predictions_dict['b3lyp']['pred_df'].loc['{}_b3lyp'.format(c), :]\n",
    "                           / predictions_dict['b3lyp']['pred_df'].loc['{}_b3lyp'.format(c), :].max()),\n",
    "                          color='red')\n",
    "    except:\n",
    "        pass\n",
    "    \n",
    "    ax[row, col].plot(exp_spec_df.columns[100:1001], \n",
    "                      (exp_spec_df.loc[c, 100:1000] / np.max(exp_spec_df.loc[c, 100:1000])), color='darkgray')\n",
    "    ax[row, col].set_yticks([])\n",
    "    ax[row, col].set_xticks([100, 300, 500, 700, 900])\n",
    "    \n",
    "    ax[row, col].set_title('{}. {}\\n{}'.format(i + 1, c, code_to_name[c]), fontsize=6, rotation=0)\n",
    "    ax[row, col].yaxis.set_label_coords(-0.4, 0.3)\n",
    "\n",
    "# Hide empty subplots if any\n",
    "for i in range(len(mol_codes), num_rows * num_columns):\n",
    "    row = i // num_columns\n",
    "    col = i % num_columns\n",
    "    ax[row, col].axis('off')\n",
    "\n",
    "plt.tight_layout()\n",
    "plt.subplots_adjust(wspace=0.05) \n",
    "plt.savefig('../../../../Manuscripts/HSI_manuscript/figure_imgs/{}_overlapped_comparison_b3lyp_wasserstein_photochemdb_S1.pdf'.format(date_str))\n",
    "plt.show()"
   ]
  },
  {
   "cell_type": "code",
   "execution_count": 37,
   "id": "cfe6c13b",
   "metadata": {},
   "outputs": [],
   "source": [
    "pred_scores\n",
    "pred_score_df = pd.DataFrame({'code':[c.split('_')[0] for c in pred_scores[0]], 'pred_score':pred_scores[1]})\n",
    "exp_score_df = pd.DataFrame({'code':exp_scores[0], 'exp_score':exp_scores[1]})\n",
    "\n",
    "joint_score_df = pred_score_df.merge(exp_score_df, on='code', how='inner')\n",
    "joint_score_df.index = joint_score_df['code'].map(lambda x : code_to_name[x])"
   ]
  },
  {
   "cell_type": "code",
   "execution_count": 10,
   "id": "84a6aa58",
   "metadata": {},
   "outputs": [],
   "source": [
    "# joint_score_df.to_csv('../../../Manuscripts/HSI_manuscript/figure_imgs/{}_benchmarking_score_comparison_B3LYP_tableS2.csv'.format(date_str))"
   ]
  },
  {
   "cell_type": "code",
   "execution_count": 11,
   "id": "fb34be35",
   "metadata": {},
   "outputs": [
    {
     "data": {
      "text/plain": [
       "array([264.74854917, 118.59005165, 157.28640454, 171.73650014,\n",
       "       169.61680577, 137.05282452,  58.93002052, 158.15646397,\n",
       "       152.65642563,  75.69621622,  69.73981571,  58.62008656,\n",
       "        58.06800045,  57.73602018,  75.90743144, 108.43836742,\n",
       "        74.00688896,  65.27087616,  57.68513088,  87.37097463,\n",
       "       118.89667324,  59.17824881,  77.68413751,  62.1863978 ,\n",
       "        78.08641617,  59.52490716,  73.03118021,  59.39286144,\n",
       "        61.7447558 ,  63.91516126,  56.65739945,  57.77936273,\n",
       "        81.30874089,  60.30945405,  58.14511041,  64.30219863,\n",
       "        56.83587835,  66.44667296,  56.34839075,  56.09300377,\n",
       "        64.8578887 ,  57.98678485,  60.4489376 ,  58.11507248,\n",
       "        67.51983541,  57.09862029,  64.92719057,  57.64809609,\n",
       "        57.12671145, 312.21731966, 280.0798453 , 216.28079522,\n",
       "       188.22954052, 176.61052706, 156.24578569, 150.66577501,\n",
       "       150.1532429 , 147.77267119, 140.15766744, 126.8243649 ,\n",
       "       123.85777598, 120.85849703, 119.19922362, 118.46757433,\n",
       "       118.27588609, 116.94324124, 112.686439  , 110.03138364,\n",
       "       108.93770985, 107.12091002, 105.60399327, 103.21927739,\n",
       "        99.99809395,  99.91213876,  95.66946757,  95.51243551,\n",
       "        95.39616826,  94.43691007,  93.35195798,  93.35195798,\n",
       "        90.41871826,  89.85060251,  89.8086791 ,  89.65183199,\n",
       "        89.29312832,  88.35961066,  86.85892573,  86.60896837,\n",
       "        86.39937938,  86.38367153,  85.9560963 ,  85.71437287,\n",
       "        84.33935246,  84.25813178,  84.06480779,  83.9878867 ,\n",
       "        83.98742231,  83.76680793])"
      ]
     },
     "execution_count": 11,
     "metadata": {},
     "output_type": "execute_result"
    }
   ],
   "source": [
    "all_scores"
   ]
  },
  {
   "cell_type": "code",
   "execution_count": 39,
   "id": "e516ecde",
   "metadata": {},
   "outputs": [],
   "source": [
    "# pd.DataFrame({'code':exp_scores[0],'name':[code_to_name[x] for x in exp_scores[0]], 'Experimental':exp_scores[1], 'Predicted':pred_scores[1]}).to_csv('../../../../Manuscripts/HSI_manuscript/figure_imgs/14May2024_photochemcad_benchmarking_summary_SuppTableS1.csv', index=False)"
   ]
  },
  {
   "cell_type": "code",
   "execution_count": 45,
   "id": "9f6f7dbd",
   "metadata": {},
   "outputs": [
    {
     "data": {
      "text/plain": [
       "Index(['A01_b3lyp', 'F13_b3lyp', 'F17_b3lyp', 'G12_b3lyp'], dtype='object')"
      ]
     },
     "execution_count": 45,
     "metadata": {},
     "output_type": "execute_result"
    }
   ],
   "source": [
    "predictions_dict['b3lyp']['pred_df'].index[predictions_dict['b3lyp']['pred_df'].max(axis=1)*30<0.1]"
   ]
  },
  {
   "cell_type": "code",
   "execution_count": 53,
   "id": "57b89b43",
   "metadata": {},
   "outputs": [
    {
     "data": {
      "text/plain": [
       "A01_b3lyp    0.000000\n",
       "F13_b3lyp    0.079888\n",
       "F17_b3lyp    0.083872\n",
       "G12_b3lyp    0.079852\n",
       "dtype: float64"
      ]
     },
     "execution_count": 53,
     "metadata": {},
     "output_type": "execute_result"
    }
   ],
   "source": [
    "(predictions_dict['b3lyp']['pred_df'].max(axis=1)*30)[predictions_dict['b3lyp']['pred_df'].max(axis=1)*30<0.1]"
   ]
  },
  {
   "cell_type": "code",
   "execution_count": 57,
   "id": "63583911",
   "metadata": {},
   "outputs": [
    {
     "data": {
      "text/plain": [
       "<AxesSubplot: >"
      ]
     },
     "execution_count": 57,
     "metadata": {},
     "output_type": "execute_result"
    },
    {
     "data": {
      "image/png": "[encoded data removed]",
      "text/plain": [
       "<Figure size 432x288 with 1 Axes>"
      ]
     },
     "metadata": {
      "needs_background": "light"
     },
     "output_type": "display_data"
    }
   ],
   "source": [
    "(30*predictions_dict['b3lyp']['pred_df'].loc['F13_b3lyp']).plot()"
   ]
  },
  {
   "cell_type": "code",
   "execution_count": null,
   "id": "8843f203",
   "metadata": {},
   "outputs": [],
   "source": []
  }
 ],
 "metadata": {
  "kernelspec": {
   "display_name": "my-rdkit-env",
   "language": "python",
   "name": "my-rdkit-env"
  },
  "language_info": {
   "codemirror_mode": {
    "name": "ipython",
    "version": 3
   },
   "file_extension": ".py",
   "mimetype": "text/x-python",
   "name": "python",
   "nbconvert_exporter": "python",
   "pygments_lexer": "ipython3",
   "version": "3.11.0"
  }
 },
 "nbformat": 4,
 "nbformat_minor": 5
}
