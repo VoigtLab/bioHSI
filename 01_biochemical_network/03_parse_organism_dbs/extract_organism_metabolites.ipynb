{
 "cells": [
  {
   "cell_type": "code",
   "execution_count": 4,
   "id": "fd35c2a8",
   "metadata": {},
   "outputs": [],
   "source": [
    "from rdkit import Chem\n",
    "import pandas as pd\n",
    "import sys\n",
    "sys.path.append('..')\n",
    "from utils import *\n",
    "import glob\n",
    "import os"
   ]
  },
  {
   "cell_type": "code",
   "execution_count": 7,
   "id": "a79d3d13",
   "metadata": {},
   "outputs": [
    {
     "name": "stdout",
     "output_type": "stream",
     "text": [
      "p_pantotrophus/All-compounds-of-P.-pantotrophus-DSM-2944.txt\n",
      "p_pantotrophus/All-reactions-of-P.-pantotrophus-DSM-2944.txt\n",
      "p_pantotrophus/p_pantotrophus_metabolites_from_pathways.csv\n",
      "Number of metabolites: 723\n"
     ]
    },
    {
     "name": "stderr",
     "output_type": "stream",
     "text": [
      "[10:49:01] WARNING: not removing hydrogen atom without neighbors\n",
      "[10:49:01] WARNING: not removing hydrogen atom without neighbors\n",
      "[10:49:01] WARNING: not removing hydrogen atom without neighbors\n",
      "[10:49:01] WARNING: not removing hydrogen atom without neighbors\n",
      "[10:49:01] Conflicting single bond directions around double bond at index 22.\n",
      "[10:49:01]   BondStereo set to STEREONONE and single bond directions set to NONE.\n"
     ]
    }
   ],
   "source": [
    "# organism_name = \"e_coli\"\n",
    "# organism_name = \"s_cerevisiae\"\n",
    "# organism_name = \"b_subtilis\"\n",
    "# organism_name = \"a_thaliana\"\n",
    "# organism_name = 'm_musculus'\n",
    "# organism_name = 'p_marinus'\n",
    "# organism_name = 'h_sapiens'\n",
    "# organism_name = 'g_sulphuraria'\n",
    "# organism_name = 'r_capsulatus'\n",
    "# organism_name = 'r_gelatinosus'\n",
    "# organism_name = 'p_fluorescens'\n",
    "# organism_name = 'p_citronellolis'\n",
    "# organism_name = 'p_stutzerii'\n",
    "# organism_name = 'p_protegens'\n",
    "# organism_name = 'p_rubens'\n",
    "organism_name = 'p_pantotrophus'\n",
    "\n",
    "CPDS_FILE = glob.glob(os.path.join(organism_name,\"*compounds*\"))[0]\n",
    "REACTIONS_FILE = glob.glob(os.path.join(organism_name,\"*reactions*\"))[0]\n",
    "SAVE_NAME = \"{}/{}_metabolites_from_pathways.csv\".format(organism_name, organism_name)\n",
    "\n",
    "print (CPDS_FILE)\n",
    "print (REACTIONS_FILE)\n",
    "print (SAVE_NAME)\n",
    "\n",
    "reaction_df = pd.read_csv(REACTIONS_FILE, sep='\\t').dropna(subset=['In-Pathway'])\n",
    "cpds_df = pd.read_csv(CPDS_FILE, sep='\\t').dropna()\n",
    "cpds_to_smiles = pd.Series(cpds_df['SMILES'].values, index=cpds_df['Compound'].values).to_dict()\n",
    "\n",
    "metabolites_strings = set([])\n",
    "for x in reaction_df['Substrates']:\n",
    "    for met in [y.strip() for y in x.split(' // ')]:\n",
    "        metabolites_strings.add(met)\n",
    "        \n",
    "metabolite_names = []\n",
    "metabolite_smiles = []\n",
    "for s in metabolites_strings:\n",
    "    try:\n",
    "        metabolite_smiles.append(standardize_smiles(cpds_to_smiles[s]))\n",
    "        metabolite_names.append(s)\n",
    "    except:\n",
    "        pass\n",
    "#         print ('Could not convert {} to SMILES'.format(s))\n",
    "\n",
    "print (\"Number of metabolites:\", len(metabolite_smiles))    "
   ]
  },
  {
   "cell_type": "code",
   "execution_count": 8,
   "id": "2687b971",
   "metadata": {},
   "outputs": [
    {
     "name": "stdout",
     "output_type": "stream",
     "text": [
      "DATA SAVED TO p_pantotrophus/p_pantotrophus_metabolites_from_pathways.csv\n"
     ]
    }
   ],
   "source": [
    "## Uncommment to save\n",
    "\n",
    "pd.DataFrame({'name':metabolite_names, 'smiles':metabolite_smiles}).to_csv(SAVE_NAME, index=False, sep='\\t')\n",
    "print (\"DATA SAVED TO\", SAVE_NAME)"
   ]
  },
  {
   "cell_type": "code",
   "execution_count": 13,
   "id": "88699d61",
   "metadata": {},
   "outputs": [
    {
     "data": {
      "text/plain": [
       "[('protoheme',\n",
       "  'C=CC1=C(C)C2=Cc3c(C=C)c(C)c4n3[Fe-2]35n6c(c(C)c(CCC(=O)O)c6=CC6=[N+]3C(=C4)C(C)=C6CCC(=O)O)=CC1=[N+]25'),\n",
       " ('ferroheme <i>d</i><sub>1</sub>',\n",
       "  'Cc1c(CCC(=O)O)c2n3c1C=C1C(=O)[C@](C)(CC(=O)O)C4=[N+]1[Fe-2]31n3c(c(C)c(/C=C/C(=O)O)c3=C2)=CC2=[N+]1C(=C4)C(=O)[C@]2(C)CC(=O)O'),\n",
       " ('siroheme',\n",
       "  'C[C@@]1(CC(=O)O)C2=CC3=[N+]4C(=Cc5c(CCC(=O)O)c(CC(=O)O)c6n5[Fe-2]45N2C(=CC2=[N+]5C(=C6)[C@@H](CCC(=O)O)[C@]2(C)CC(=O)O)[C@H]1CCC(=O)O)C(CCC(=O)O)=C3CC(=O)O'),\n",
       " ('12,18-didecarboxysiroheme',\n",
       "  'CC1=C(CCC(=O)O)C2=Cc3c(CCC(=O)O)c(C)c4n3[Fe-2]35N6C(=CC7=[N+]3C(=C4)[C@@H](CCC(=O)O)[C@]7(C)CC(=O)O)[C@@H](CCC(=O)O)[C@](C)(CC(=O)O)C6=CC1=[N+]25'),\n",
       " ('pre-heme <i>d</i><sub>1</sub>',\n",
       "  'CC1=C(CCC(=O)O)C2=Cc3c(CCC(=O)O)c(C)c4n3[Fe-2]35N6C(=CC7=[N+]3C(=C4)C(=O)[C@]7(C)CC(=O)O)C(=O)[C@](C)(CC(=O)O)C6=CC1=[N+]25')]"
      ]
     },
     "execution_count": 13,
     "metadata": {},
     "output_type": "execute_result"
    }
   ],
   "source": [
    "[(x, metabolite_smiles[i]) for i,x in enumerate(metabolite_names) if 'heme' in x.lower()]"
   ]
  },
  {
   "cell_type": "code",
   "execution_count": null,
   "id": "cd99dd4f",
   "metadata": {},
   "outputs": [],
   "source": []
  }
 ],
 "metadata": {
  "kernelspec": {
   "display_name": "my-rdkit-env",
   "language": "python",
   "name": "my-rdkit-env"
  },
  "language_info": {
   "codemirror_mode": {
    "name": "ipython",
    "version": 3
   },
   "file_extension": ".py",
   "mimetype": "text/x-python",
   "name": "python",
   "nbconvert_exporter": "python",
   "pygments_lexer": "ipython3",
   "version": "3.11.0"
  }
 },
 "nbformat": 4,
 "nbformat_minor": 5
}
