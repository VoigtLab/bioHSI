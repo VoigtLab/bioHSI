{
 "cells": [
  {
   "cell_type": "code",
   "execution_count": 1,
   "id": "f6e07415",
   "metadata": {},
   "outputs": [],
   "source": [
    "import pandas as pd\n",
    "import json\n",
    "import re\n",
    "import requests\n",
    "import numpy as np"
   ]
  },
  {
   "cell_type": "code",
   "execution_count": 2,
   "id": "8f9f50cc",
   "metadata": {},
   "outputs": [],
   "source": [
    "# Get query results from uniprot (for UNIPROT ID —> sequence)\n",
    "with open('20Nov2023uniprot_chkpoint_for_brenda.txt', 'r') as f:\n",
    "    queried = f.readlines()"
   ]
  },
  {
   "cell_type": "code",
   "execution_count": 3,
   "id": "3ec91c3b",
   "metadata": {},
   "outputs": [
    {
     "name": "stdout",
     "output_type": "stream",
     "text": [
      "142313\n",
      "141515\n"
     ]
    }
   ],
   "source": [
    "print (len(queried))\n",
    "queried = [x for x in queried if 'rror' not in x]\n",
    "print (len(queried))"
   ]
  },
  {
   "cell_type": "code",
   "execution_count": 4,
   "id": "64a8e79d",
   "metadata": {},
   "outputs": [
    {
     "name": "stdout",
     "output_type": "stream",
     "text": [
      "Extracted Information:\n",
      "db: sp\n",
      "UniqueIdentifier: Q01740\n",
      "EntryName: FMO1_HUMAN\n",
      "ProteinName: Flavin-containing monooxygenase 1\n",
      "OrganismName: Homo sapiens\n",
      "OrganismIdentifier: 9606\n",
      "GeneName: None\n",
      "ProteinExistence: 1\n",
      "SequenceVersion: 3\n"
     ]
    }
   ],
   "source": [
    "def extract_header_information(header):\n",
    "    regex_pattern = r'>?([^|]+)\\|([^|]+)\\|([^ ]+?) (.*?)(?: OS=(.+?))(?: OX=(.+))?(?: GN=(.+?))?(?: PE=(.+?))(?: SV=(.+?))'\n",
    "    match = re.match(regex_pattern, header)\n",
    "    if match:\n",
    "        db_value = match.group(1)\n",
    "        unique_identifier = match.group(2)\n",
    "        entry_name = match.group(3)\n",
    "        protein_name = match.group(4)\n",
    "        organism_name = match.group(5)\n",
    "        organism_identifier = match.group(6)\n",
    "        gene_name = match.group(7)\n",
    "        protein_existence = match.group(8)\n",
    "        sequence_version = match.group(9)\n",
    "\n",
    "        return {\n",
    "            \"db\": db_value,\n",
    "            \"UniqueIdentifier\": unique_identifier,\n",
    "            \"EntryName\": entry_name,\n",
    "            \"ProteinName\": protein_name,\n",
    "            \"OrganismName\": organism_name,\n",
    "            \"OrganismIdentifier\": organism_identifier,\n",
    "            \"GeneName\": gene_name,\n",
    "            \"ProteinExistence\": protein_existence,\n",
    "            \"SequenceVersion\": sequence_version\n",
    "        }\n",
    "    else:\n",
    "        print (\"Failed parsing\")\n",
    "        return None\n",
    "\n",
    "header_example = '>sp|Q01740|FMO1_HUMAN Flavin-containing monooxygenase 1 OS=Homo sapiens OX=9606 PE=1 SV=3'\n",
    "\n",
    "\n",
    "result = extract_header_information(header_example)\n",
    "if result:\n",
    "    print(\"Extracted Information:\")\n",
    "    for key, value in result.items():\n",
    "        print(f\"{key}: {value}\")\n",
    "else:\n",
    "    print(\"Header format doesn't match the pattern.\")\n",
    "\n",
    "\n",
    "def parse_uniprot_result (uniprot_result):\n",
    "    header = uniprot_result.split('\\n')[0]\n",
    "    sequence = ''.join(uniprot_result.split('\\n')[1:])\n",
    "    info = extract_header_information(header)\n",
    "    if info is not None:\n",
    "        info['sequence'] = sequence\n",
    "    else:\n",
    "        print (header)\n",
    "        print (sequence)\n",
    "    return info\n",
    "\n",
    "def parse_uniprot_batch (uniprot_batch):\n",
    "    result_ls = []\n",
    "    for uniprot_result in uniprot_batch.split('\\n>'):\n",
    "        if uniprot_result is not None:\n",
    "            parsed = parse_uniprot_result(uniprot_result)\n",
    "            if parsed is not None:\n",
    "                result_ls.append(parsed)\n",
    "    return result_ls"
   ]
  },
  {
   "cell_type": "code",
   "execution_count": 5,
   "id": "a4e8f46f",
   "metadata": {},
   "outputs": [],
   "source": [
    "parsed_queried = parse_uniprot_batch(''.join(queried))"
   ]
  },
  {
   "cell_type": "code",
   "execution_count": 6,
   "id": "de2aa274",
   "metadata": {},
   "outputs": [],
   "source": [
    "# get previously parsed dictionary of UNIPROT ID —> sequence \n",
    "with open('protein_id_to_sequence.json', 'r') as f:\n",
    "    pid2seq = json.load(f)"
   ]
  },
  {
   "cell_type": "code",
   "execution_count": 7,
   "id": "2f1ab2f0",
   "metadata": {},
   "outputs": [],
   "source": [
    "# Add BRENDA UNIPROT IDs to dictionary\n",
    "for entry in parsed_queried:\n",
    "    pid2seq[entry['UniqueIdentifier']] = entry['sequence']"
   ]
  },
  {
   "cell_type": "code",
   "execution_count": 8,
   "id": "2fa63768",
   "metadata": {},
   "outputs": [],
   "source": [
    "# Save more complete dictionary\n",
    "with open('20Nov2023_protein_id_to_sequence.json','w') as f:\n",
    "    json.dump(pid2seq, f)"
   ]
  },
  {
   "cell_type": "code",
   "execution_count": 9,
   "id": "5516c0a8",
   "metadata": {},
   "outputs": [],
   "source": [
    "# Get info linking brenda reactions to UNIPROT IDs\n",
    "with open('../parse_reaction_dbs/brenda/scraped_brenda_substrate_results.json', 'r') as f:\n",
    "    #requires further conversion from uniprot to seq\n",
    "    brenda2uniprot = json.load(f)"
   ]
  },
  {
   "cell_type": "code",
   "execution_count": 10,
   "id": "468214a0",
   "metadata": {},
   "outputs": [],
   "source": [
    "# clean brenda dict\n",
    "# remove lines with no UNIPROT ID\n",
    "cleaned_brenda2uniprot = {}\n",
    "for ec in brenda2uniprot:\n",
    "    new_entries = []\n",
    "    for entry in brenda2uniprot[ec]:\n",
    "        if entry['UNIPROT']!='-' and len(entry['UNIPROT']) and entry['SUBSTRATE']!='additional information'and entry['PRODUCT']!='?':\n",
    "            new_entry = entry\n",
    "            new_entry['molecules'] = set(entry['PRODUCT'].split(' + ')).union(set(entry['SUBSTRATE'].split(' + ')))\n",
    "            new_entries.append(new_entry)\n",
    "    cleaned_brenda2uniprot[ec] = new_entries"
   ]
  },
  {
   "cell_type": "code",
   "execution_count": 11,
   "id": "0a0826fe",
   "metadata": {},
   "outputs": [],
   "source": [
    "bkms = pd.read_csv('bkms/1Sep2023_bkms-mapped.txt', sep='\\t').drop(columns=['Unnamed: 0.1','index','Unnamed: 0'])"
   ]
  },
  {
   "cell_type": "code",
   "execution_count": 12,
   "id": "f4c682fd",
   "metadata": {},
   "outputs": [
    {
     "name": "stdout",
     "output_type": "stream",
     "text": [
      "13731\n"
     ]
    }
   ],
   "source": [
    "brenda_subset = bkms.dropna(subset=['Reaction_ID_BRENDA'])\n",
    "print (len (brenda_subset))"
   ]
  },
  {
   "cell_type": "code",
   "execution_count": 13,
   "id": "6888f341",
   "metadata": {},
   "outputs": [
    {
     "name": "stderr",
     "output_type": "stream",
     "text": [
      "/var/folders/cb/fq3bwnj51bv2d7d694kx77pm0000gp/T/ipykernel_86597/1937314485.py:16: SettingWithCopyWarning: \n",
      "A value is trying to be set on a copy of a slice from a DataFrame.\n",
      "Try using .loc[row_indexer,col_indexer] = value instead\n",
      "\n",
      "See the caveats in the documentation: https://pandas.pydata.org/pandas-docs/stable/user_guide/indexing.html#returning-a-view-versus-a-copy\n",
      "  brenda_subset['reactants'] = brenda_subset['Reaction'].map(lambda x : get_reactants(x))\n",
      "/var/folders/cb/fq3bwnj51bv2d7d694kx77pm0000gp/T/ipykernel_86597/1937314485.py:17: SettingWithCopyWarning: \n",
      "A value is trying to be set on a copy of a slice from a DataFrame.\n",
      "Try using .loc[row_indexer,col_indexer] = value instead\n",
      "\n",
      "See the caveats in the documentation: https://pandas.pydata.org/pandas-docs/stable/user_guide/indexing.html#returning-a-view-versus-a-copy\n",
      "  brenda_subset['products'] = brenda_subset['Reaction'].map(lambda x : get_products(x))\n",
      "/var/folders/cb/fq3bwnj51bv2d7d694kx77pm0000gp/T/ipykernel_86597/1937314485.py:18: SettingWithCopyWarning: \n",
      "A value is trying to be set on a copy of a slice from a DataFrame.\n",
      "Try using .loc[row_indexer,col_indexer] = value instead\n",
      "\n",
      "See the caveats in the documentation: https://pandas.pydata.org/pandas-docs/stable/user_guide/indexing.html#returning-a-view-versus-a-copy\n",
      "  brenda_subset['molecules'] = brenda_subset['Reaction'].map(lambda x : set(get_products(x)).union(set(get_reactants(x))) )\n"
     ]
    }
   ],
   "source": [
    "def get_reactants (reaction):\n",
    "    if '<=>' in reaction:\n",
    "        return reaction.split(' <=> ')[0].split(' + ')\n",
    "    elif ' = ' in reaction:\n",
    "        return reaction.split(' = ')[0].split(' + ')\n",
    "    else:\n",
    "        raise \n",
    "def get_products (reaction):\n",
    "    if '<=>' in reaction:\n",
    "        return reaction.split(' <=> ')[1].split(' + ')\n",
    "    elif ' = ' in reaction:\n",
    "        return reaction.split(' = ')[1].split(' + ')\n",
    "    else:\n",
    "        raise \n",
    "        \n",
    "brenda_subset['reactants'] = brenda_subset['Reaction'].map(lambda x : get_reactants(x))\n",
    "brenda_subset['products'] = brenda_subset['Reaction'].map(lambda x : get_products(x))\n",
    "brenda_subset['molecules'] = brenda_subset['Reaction'].map(lambda x : set(get_products(x)).union(set(get_reactants(x))) )"
   ]
  },
  {
   "cell_type": "code",
   "execution_count": 14,
   "id": "500c0dca",
   "metadata": {},
   "outputs": [],
   "source": [
    "idx2uniprot = {}\n",
    "no_ec = []\n",
    "empty_ec = []\n",
    "for idx in brenda_subset.index:\n",
    "    ec =  brenda_subset.loc[idx,'EC_Number']\n",
    "    if ec =='SPONTANEOUS':\n",
    "        idx2uniprot[idx] = 'SPONTANEOUS'\n",
    "    else:    \n",
    "        if ec in cleaned_brenda2uniprot.keys():\n",
    "            brenda_ec_page = cleaned_brenda2uniprot[ec]\n",
    "            overlaps = []\n",
    "            if len(brenda_ec_page):\n",
    "                for entry in brenda_ec_page:\n",
    "                    overlap = len(entry['molecules'].intersection(brenda_subset.loc[idx,'molecules']))\n",
    "                    overlaps.append(overlap)\n",
    "                \n",
    "                idx2uniprot[idx] = brenda_ec_page[np.argmax(overlaps)]['UNIPROT']\n",
    "            else:\n",
    "                empty_ec.append(ec)"
   ]
  },
  {
   "cell_type": "code",
   "execution_count": 15,
   "id": "2232b01d",
   "metadata": {},
   "outputs": [],
   "source": [
    "idx2seq = {}\n",
    "for k,pid in idx2uniprot.items():\n",
    "    \n",
    "    if pid == 'SPONTANEOUS':\n",
    "        idx2seq[k] = 'SPONTANEOUS'\n",
    "        \n",
    "    uniprot_options = [x.strip() for x in pid.replace(';',',').split(',')]\n",
    "    \n",
    "    for uid in uniprot_options:\n",
    "        if uid in pid2seq.keys():\n",
    "            idx2seq[k] = pid2seq[uid]"
   ]
  },
  {
   "cell_type": "code",
   "execution_count": 16,
   "id": "76e8ec4b",
   "metadata": {},
   "outputs": [
    {
     "data": {
      "text/plain": [
       "10225"
      ]
     },
     "execution_count": 16,
     "metadata": {},
     "output_type": "execute_result"
    }
   ],
   "source": [
    "len(idx2seq)"
   ]
  },
  {
   "cell_type": "code",
   "execution_count": 17,
   "id": "8d0cf114",
   "metadata": {},
   "outputs": [],
   "source": [
    "bkms['sequence'] = [idx2seq[idx] if idx in idx2seq.keys() else None for idx in bkms.index]"
   ]
  },
  {
   "cell_type": "code",
   "execution_count": 18,
   "id": "313191c3",
   "metadata": {},
   "outputs": [
    {
     "data": {
      "text/plain": [
       "1        MEPEVIRDKDSMRKWSRAMRSQGKTIGLVPTMGYLHEGHLSLVRQS...\n",
       "2        MHTSTTSTVPLEPWTAQQLQQATQGYWHKDQIPQTEIKRILTDSRH...\n",
       "3        MRVALLMGGVSREREISLRSGERVKKALEKLGYEHTVFDVREDFLK...\n",
       "4        MISVDRLSEEQALGMKEQEWAGPEALCPGWQEEEVSDGEGPEDSGH...\n",
       "5        MSAQSAASRWTNLAGIGSCHPRHHHYPTSTKEVQDAFELVRSQNGK...\n",
       "                               ...                        \n",
       "25324    MREIIERVKEKTTIPVYERTIENVLSAIQASGDVWRIVDLSEEPLP...\n",
       "25325    MREIIERVKEKTTIPVYERTIENVLSAIQASGDVWRIVDLSEEPLP...\n",
       "25328    MREIIERVKEKTTIPVYERTIENVLSAIQASGDVWRIVDLSEEPLP...\n",
       "25331    MGYNEQERAFIEWYPRGYGVGFKVKRRLFETQTEYQRLEIYETEGF...\n",
       "25332    MDKLISNNKLKLSVVLLGGLCSLAYYHLKNKFHLSQFCFSKKWFSE...\n",
       "Name: sequence, Length: 10225, dtype: object"
      ]
     },
     "execution_count": 18,
     "metadata": {},
     "output_type": "execute_result"
    }
   ],
   "source": [
    "bkms['sequence'].dropna()"
   ]
  },
  {
   "cell_type": "markdown",
   "id": "1cf9b58a",
   "metadata": {},
   "source": [
    "## KEGG"
   ]
  },
  {
   "cell_type": "code",
   "execution_count": 19,
   "id": "75f78922",
   "metadata": {},
   "outputs": [],
   "source": [
    "with open('../parse_reaction_dbs/kegg/kegg_rids_to_sequences.json', 'r') as f:\n",
    "    kegg2seq = json.load(f)"
   ]
  },
  {
   "cell_type": "code",
   "execution_count": 20,
   "id": "a5b96bd4",
   "metadata": {},
   "outputs": [],
   "source": [
    "# Prefer KEGG sequence over BRENDA-derived sequence\n",
    "for idx in bkms[~bkms['Reaction_ID_KEGG'].isna()].index:\n",
    "    kegg_ids = bkms.loc[idx, 'Reaction_ID_KEGG'].replace(';',',').split(',')\n",
    "    for kid in kegg_ids:\n",
    "        if  kid in kegg2seq.keys():\n",
    "            kegg_entry = kegg2seq[kid]\n",
    "            if kegg_entry:\n",
    "                bkms.loc[idx,'sequence'] = kegg_entry['sequence']"
   ]
  },
  {
   "cell_type": "code",
   "execution_count": 21,
   "id": "69676e70",
   "metadata": {},
   "outputs": [
    {
     "data": {
      "text/plain": [
       "0        MKTAAQYEESLRRLNLKVYLQGERVENPVDHPIIRPSMNSVKTTYA...\n",
       "1        MLIAHSIADLRSALASRGRPAFVPTMGNLHEGHLSLVRQARALGDV...\n",
       "2        MSGTPMLTLQQAHALVQARIPQARLVGGPDALQLPLGRVHTDTRTL...\n",
       "3        MSGTPMLTLQQAHALVQARIPQARLVGGPDALQLPLGRVHTDTRTL...\n",
       "4        MLLCLSPAWLMKVAVPGQEGEASLLVSKAVSFYPGGLTFLDDFVPP...\n",
       "                               ...                        \n",
       "25328    MREIIERVKEKTTIPVYERTIENVLSAIQASGDVWRIVDLSEEPLP...\n",
       "25329    MTTLPATSLSETARRSPERAVETYVEGRPYDLFYLSSAGRRLVGRK...\n",
       "25330    MWVDCATGGGKARWPASRKIAGLTAAAPLPSPPQPAPRPLDIALLA...\n",
       "25331    MWVDCATGGGKARWPASRKIAGLTAAAPLPSPPQPAPRPLDIALLA...\n",
       "25332    MWVDCATGGGKARWPASRKIAGLTAAAPLPSPPQPAPRPLDIALLA...\n",
       "Name: sequence, Length: 13708, dtype: object"
      ]
     },
     "execution_count": 21,
     "metadata": {},
     "output_type": "execute_result"
    }
   ],
   "source": [
    "bkms['sequence'].dropna()"
   ]
  },
  {
   "cell_type": "code",
   "execution_count": 22,
   "id": "3d45e609",
   "metadata": {},
   "outputs": [
    {
     "data": {
      "text/plain": [
       "0                                       natural substrates\n",
       "12                 natural substrates, multi-step reaction\n",
       "16                             natural substrates, generic\n",
       "79                    natural substrates, generic, protein\n",
       "170      natural substrates, multi-step reaction, gener...\n",
       "232                            natural substrates, polymer\n",
       "281                            natural substrates, protein\n",
       "455                         natural substrates, nucleotide\n",
       "493                   natural substrates, generic, polymer\n",
       "1428      natural substrates, multi-step reaction, generic\n",
       "1770         natural substrates, generic, polymer, protein\n",
       "12267              natural substrates, generic, nucleotide\n",
       "13851                 natural substrates, polymer, protein\n",
       "Name: Remark, dtype: object"
      ]
     },
     "execution_count": 22,
     "metadata": {},
     "output_type": "execute_result"
    }
   ],
   "source": [
    "bkms['Remark'].drop_duplicates()"
   ]
  },
  {
   "cell_type": "markdown",
   "id": "44a51126",
   "metadata": {},
   "source": [
    "## MetaCyc"
   ]
  },
  {
   "cell_type": "code",
   "execution_count": 36,
   "id": "81578f87",
   "metadata": {},
   "outputs": [],
   "source": [
    "metacyc2seq = pd.read_csv('21Nov2023_metacyc_reactions_with_sequences.csv')"
   ]
  },
  {
   "cell_type": "code",
   "execution_count": 37,
   "id": "e5fa50c1",
   "metadata": {},
   "outputs": [],
   "source": [
    "metacyc2seq_dict = pd.Series(metacyc2seq['sequence'].values, index = metacyc2seq['REACTION_ID'].values).to_dict()"
   ]
  },
  {
   "cell_type": "code",
   "execution_count": 39,
   "id": "bad881ad",
   "metadata": {},
   "outputs": [],
   "source": [
    "for idx in bkms[~bkms['Reaction_ID_MetaCyc'].isna()].index:\n",
    "    metacyc_ids = bkms.loc[idx, 'Reaction_ID_MetaCyc'].replace(';',',').split(',')\n",
    "    for mid in metacyc_ids:\n",
    "        if  bkms.loc[idx, 'Reaction_ID_MetaCyc'] in metacyc2seq_dict.keys():\n",
    "            bkms.loc[idx,'sequence'] = metacyc2seq_dict[bkms.loc[idx, 'Reaction_ID_MetaCyc']]"
   ]
  },
  {
   "cell_type": "code",
   "execution_count": 40,
   "id": "b94d9cbf",
   "metadata": {
    "scrolled": true
   },
   "outputs": [
    {
     "data": {
      "text/plain": [
       "0        MLMTAEQYIESLRKLNTRVYMFGEKIENWVDHPMIRPSINCVAMTY...\n",
       "1        MKTETTIQGLAASLNPARAARKIIGFVPTMGNLHEGHLTLVREAKK...\n",
       "2        MIPLGLGEIAEIVGGKATGESVTVTAPAVLDSRQAEPGGLFVAFAG...\n",
       "3        MIPLGLGEIAEIVGGKATGESVTVTAPAVLDSRQAEPGGLFVAFAG...\n",
       "4        MISVDRLSEEQALGMKEQEWAGPEALCPGWQEEEVSDGEGPEDSGH...\n",
       "                               ...                        \n",
       "25328    MREIIERVKEKTTIPVYERTIENVLSAIQASGDVWRIVDLSEEPLP...\n",
       "25329    MTTLPATSLSETARRSPERAVETYVEGRPYDLFYLSSAGRRLVGRK...\n",
       "25330    MAEKKQWHETLHDQFGQYFAVDNVLYHEKTDHQDLIIFENAAFGRV...\n",
       "25331    MAEKKQWHETLHDQFGQYFAVDNVLYHEKTDHQDLIIFENAAFGRV...\n",
       "25332    MAEKKQWHETLHDQFGQYFAVDNVLYHEKTDHQDLIIFENAAFGRV...\n",
       "Name: sequence, Length: 18109, dtype: object"
      ]
     },
     "execution_count": 40,
     "metadata": {},
     "output_type": "execute_result"
    }
   ],
   "source": [
    "bkms['sequence'].dropna()"
   ]
  },
  {
   "cell_type": "code",
   "execution_count": 41,
   "id": "22f0008d",
   "metadata": {
    "scrolled": true
   },
   "outputs": [
    {
     "data": {
      "text/html": [
       "<div>\n",
       "<style scoped>\n",
       "    .dataframe tbody tr th:only-of-type {\n",
       "        vertical-align: middle;\n",
       "    }\n",
       "\n",
       "    .dataframe tbody tr th {\n",
       "        vertical-align: top;\n",
       "    }\n",
       "\n",
       "    .dataframe thead th {\n",
       "        text-align: right;\n",
       "    }\n",
       "</style>\n",
       "<table border=\"1\" class=\"dataframe\">\n",
       "  <thead>\n",
       "    <tr style=\"text-align: right;\">\n",
       "      <th></th>\n",
       "      <th>ID</th>\n",
       "      <th>EC_Number</th>\n",
       "      <th>Recommended_Name</th>\n",
       "      <th>Reaction</th>\n",
       "      <th>Reaction_ID_BRENDA</th>\n",
       "      <th>Reaction_ID_KEGG</th>\n",
       "      <th>Reaction_ID_MetaCyc</th>\n",
       "      <th>Reaction_ID_SABIO_RK</th>\n",
       "      <th>BRENDA_Pathway_Name</th>\n",
       "      <th>KEGG_Pathway_ID</th>\n",
       "      <th>...</th>\n",
       "      <th>Missing_Substrate</th>\n",
       "      <th>Missing_Product</th>\n",
       "      <th>Commentary_KEGG</th>\n",
       "      <th>Commentary_MetaCyc</th>\n",
       "      <th>Remark</th>\n",
       "      <th>smiles</th>\n",
       "      <th>num products</th>\n",
       "      <th>mapped_smiles</th>\n",
       "      <th>num_products</th>\n",
       "      <th>sequence</th>\n",
       "    </tr>\n",
       "  </thead>\n",
       "  <tbody>\n",
       "  </tbody>\n",
       "</table>\n",
       "<p>0 rows × 24 columns</p>\n",
       "</div>"
      ],
      "text/plain": [
       "Empty DataFrame\n",
       "Columns: [ID, EC_Number, Recommended_Name, Reaction, Reaction_ID_BRENDA, Reaction_ID_KEGG, Reaction_ID_MetaCyc, Reaction_ID_SABIO_RK, BRENDA_Pathway_Name, KEGG_Pathway_ID, KEGG_Pathway_Name, MetaCyc_Pathway_ID, MetaCyc_Pathway_Name, Stoichiometry_Check, Missing_Substrate, Missing_Product, Commentary_KEGG, Commentary_MetaCyc, Remark, smiles, num products , mapped_smiles, num_products, sequence]\n",
       "Index: []\n",
       "\n",
       "[0 rows x 24 columns]"
      ]
     },
     "execution_count": 41,
     "metadata": {},
     "output_type": "execute_result"
    }
   ],
   "source": [
    "bkms[bkms['EC_Number'].map(lambda x: ',' in str(x))]"
   ]
  },
  {
   "cell_type": "code",
   "execution_count": 42,
   "id": "abc104a7",
   "metadata": {},
   "outputs": [
    {
     "data": {
      "text/html": [
       "<div>\n",
       "<style scoped>\n",
       "    .dataframe tbody tr th:only-of-type {\n",
       "        vertical-align: middle;\n",
       "    }\n",
       "\n",
       "    .dataframe tbody tr th {\n",
       "        vertical-align: top;\n",
       "    }\n",
       "\n",
       "    .dataframe thead th {\n",
       "        text-align: right;\n",
       "    }\n",
       "</style>\n",
       "<table border=\"1\" class=\"dataframe\">\n",
       "  <thead>\n",
       "    <tr style=\"text-align: right;\">\n",
       "      <th></th>\n",
       "      <th>ID</th>\n",
       "      <th>EC_Number</th>\n",
       "      <th>Recommended_Name</th>\n",
       "      <th>Reaction</th>\n",
       "      <th>Reaction_ID_BRENDA</th>\n",
       "      <th>Reaction_ID_KEGG</th>\n",
       "      <th>Reaction_ID_MetaCyc</th>\n",
       "      <th>Reaction_ID_SABIO_RK</th>\n",
       "      <th>BRENDA_Pathway_Name</th>\n",
       "      <th>KEGG_Pathway_ID</th>\n",
       "      <th>...</th>\n",
       "      <th>Missing_Substrate</th>\n",
       "      <th>Missing_Product</th>\n",
       "      <th>Commentary_KEGG</th>\n",
       "      <th>Commentary_MetaCyc</th>\n",
       "      <th>Remark</th>\n",
       "      <th>smiles</th>\n",
       "      <th>num products</th>\n",
       "      <th>mapped_smiles</th>\n",
       "      <th>num_products</th>\n",
       "      <th>sequence</th>\n",
       "    </tr>\n",
       "  </thead>\n",
       "  <tbody>\n",
       "    <tr>\n",
       "      <th>5288</th>\n",
       "      <td>23003</td>\n",
       "      <td>NaN</td>\n",
       "      <td>NaN</td>\n",
       "      <td>Bromobenzene-2,3-oxide &lt;=&gt; 2-Bromophenol</td>\n",
       "      <td>NaN</td>\n",
       "      <td>R07074</td>\n",
       "      <td>NaN</td>\n",
       "      <td>NaN</td>\n",
       "      <td>NaN</td>\n",
       "      <td>rn00980</td>\n",
       "      <td>...</td>\n",
       "      <td>NaN</td>\n",
       "      <td>NaN</td>\n",
       "      <td>NaN</td>\n",
       "      <td>NaN</td>\n",
       "      <td>natural substrates</td>\n",
       "      <td>BrC1=CC=CC2OC12&gt;&gt;Oc1ccccc1Br</td>\n",
       "      <td>1</td>\n",
       "      <td>[Br:1][C:2]1=[CH:3][CH:4]=[CH:5][CH:6]2[O:7][...</td>\n",
       "      <td>1</td>\n",
       "      <td>None</td>\n",
       "    </tr>\n",
       "    <tr>\n",
       "      <th>1871</th>\n",
       "      <td>12710</td>\n",
       "      <td>1.7.1.9</td>\n",
       "      <td>nitroquinoline-N-oxide reductase</td>\n",
       "      <td>4-(hydroxyamino)quinoline N-oxide + 2 NAD+ + H...</td>\n",
       "      <td>BR36929_WOP</td>\n",
       "      <td>R04228</td>\n",
       "      <td>1.7.1.9-RXN_WOP</td>\n",
       "      <td>NaN</td>\n",
       "      <td>NaN</td>\n",
       "      <td>NaN</td>\n",
       "      <td>...</td>\n",
       "      <td>NaN</td>\n",
       "      <td>NaN</td>\n",
       "      <td>NADPH (see R04229)</td>\n",
       "      <td>NaN</td>\n",
       "      <td>natural substrates</td>\n",
       "      <td>O/N=c1/ccn(O)c2ccccc12&gt;&gt;O=[N+]([O-])c1cc[n+]([...</td>\n",
       "      <td>1</td>\n",
       "      <td>[OH:1]/[N:2]=[c:3]\\1/[cH:4][cH:5][n:6]([OH:7]...</td>\n",
       "      <td>1</td>\n",
       "      <td>None</td>\n",
       "    </tr>\n",
       "    <tr>\n",
       "      <th>7774</th>\n",
       "      <td>28067</td>\n",
       "      <td>2.7.1.202</td>\n",
       "      <td>protein-Npi-phosphohistidine-D-fructose phosph...</td>\n",
       "      <td>[HPr protein]-Npi-phospho-L-histidine + keto-D...</td>\n",
       "      <td>NaN</td>\n",
       "      <td>NaN</td>\n",
       "      <td>RXN-15150</td>\n",
       "      <td>NaN</td>\n",
       "      <td>NaN</td>\n",
       "      <td>NaN</td>\n",
       "      <td>...</td>\n",
       "      <td>NaN</td>\n",
       "      <td>NaN</td>\n",
       "      <td>NaN</td>\n",
       "      <td>NaN</td>\n",
       "      <td>natural substrates, protein</td>\n",
       "      <td>O=C(CO)[C@@H](O)[C@H](O)[C@H](O)CO&gt;&gt;O=C(COP(=O...</td>\n",
       "      <td>1</td>\n",
       "      <td>[O:1]=[C:2]([CH2:3][OH:4])[C@@H:5]([OH:6])[C@...</td>\n",
       "      <td>1</td>\n",
       "      <td>None</td>\n",
       "    </tr>\n",
       "    <tr>\n",
       "      <th>4520</th>\n",
       "      <td>21683</td>\n",
       "      <td>2.7.7.28</td>\n",
       "      <td>nucleoside-triphosphate-aldose-1-phosphate nuc...</td>\n",
       "      <td>GTP + alpha-D-Hexose 1-phosphate &lt;=&gt; Diphospha...</td>\n",
       "      <td>NaN</td>\n",
       "      <td>R03318</td>\n",
       "      <td>NaN</td>\n",
       "      <td>NaN</td>\n",
       "      <td>NaN</td>\n",
       "      <td>NaN</td>\n",
       "      <td>...</td>\n",
       "      <td>NaN</td>\n",
       "      <td>NaN</td>\n",
       "      <td>NaN</td>\n",
       "      <td>NaN</td>\n",
       "      <td>natural substrates, generic</td>\n",
       "      <td>N=c1[nH]c(=O)c2ncn([C@@H]3O[C@H](CO[PH](=O)(=O...</td>\n",
       "      <td>1</td>\n",
       "      <td>[O:1]=[c:2]1[nH:3][c:4](=[NH:5])[nH:6][c:7]2[...</td>\n",
       "      <td>1</td>\n",
       "      <td>None</td>\n",
       "    </tr>\n",
       "    <tr>\n",
       "      <th>21194</th>\n",
       "      <td>23976</td>\n",
       "      <td>4.1.1</td>\n",
       "      <td>NaN</td>\n",
       "      <td>Phenanthrene-4,5-dicarboxylate &lt;=&gt; Phenanthren...</td>\n",
       "      <td>NaN</td>\n",
       "      <td>R09164</td>\n",
       "      <td>NaN</td>\n",
       "      <td>NaN</td>\n",
       "      <td>NaN</td>\n",
       "      <td>rn00624; rn01120</td>\n",
       "      <td>...</td>\n",
       "      <td>NaN</td>\n",
       "      <td>NaN</td>\n",
       "      <td>phenanthrene-4,5-dicarboxylate decarboxylase</td>\n",
       "      <td>NaN</td>\n",
       "      <td>natural substrates</td>\n",
       "      <td>O=C(O)c1cccc2ccc3ccccc3c12&gt;&gt;O=C(O)c1cccc2ccc3c...</td>\n",
       "      <td>1</td>\n",
       "      <td>[O:1]=[C:2]([OH:3])[c:4]1[cH:5][cH:6][cH:7][c:...</td>\n",
       "      <td>1</td>\n",
       "      <td>None</td>\n",
       "    </tr>\n",
       "  </tbody>\n",
       "</table>\n",
       "<p>5 rows × 24 columns</p>\n",
       "</div>"
      ],
      "text/plain": [
       "          ID  EC_Number                                   Recommended_Name  \\\n",
       "5288   23003        NaN                                                NaN   \n",
       "1871   12710    1.7.1.9                   nitroquinoline-N-oxide reductase   \n",
       "7774   28067  2.7.1.202  protein-Npi-phosphohistidine-D-fructose phosph...   \n",
       "4520   21683   2.7.7.28  nucleoside-triphosphate-aldose-1-phosphate nuc...   \n",
       "21194  23976      4.1.1                                                NaN   \n",
       "\n",
       "                                                Reaction Reaction_ID_BRENDA  \\\n",
       "5288            Bromobenzene-2,3-oxide <=> 2-Bromophenol                NaN   \n",
       "1871   4-(hydroxyamino)quinoline N-oxide + 2 NAD+ + H...        BR36929_WOP   \n",
       "7774   [HPr protein]-Npi-phospho-L-histidine + keto-D...                NaN   \n",
       "4520   GTP + alpha-D-Hexose 1-phosphate <=> Diphospha...                NaN   \n",
       "21194  Phenanthrene-4,5-dicarboxylate <=> Phenanthren...                NaN   \n",
       "\n",
       "      Reaction_ID_KEGG Reaction_ID_MetaCyc Reaction_ID_SABIO_RK  \\\n",
       "5288            R07074                 NaN                  NaN   \n",
       "1871            R04228     1.7.1.9-RXN_WOP                  NaN   \n",
       "7774               NaN           RXN-15150                  NaN   \n",
       "4520            R03318                 NaN                  NaN   \n",
       "21194           R09164                 NaN                  NaN   \n",
       "\n",
       "      BRENDA_Pathway_Name   KEGG_Pathway_ID  ... Missing_Substrate  \\\n",
       "5288                  NaN           rn00980  ...               NaN   \n",
       "1871                  NaN               NaN  ...               NaN   \n",
       "7774                  NaN               NaN  ...               NaN   \n",
       "4520                  NaN               NaN  ...               NaN   \n",
       "21194                 NaN  rn00624; rn01120  ...               NaN   \n",
       "\n",
       "      Missing_Product                               Commentary_KEGG  \\\n",
       "5288              NaN                                           NaN   \n",
       "1871              NaN                            NADPH (see R04229)   \n",
       "7774              NaN                                           NaN   \n",
       "4520              NaN                                           NaN   \n",
       "21194             NaN  phenanthrene-4,5-dicarboxylate decarboxylase   \n",
       "\n",
       "      Commentary_MetaCyc                       Remark  \\\n",
       "5288                 NaN           natural substrates   \n",
       "1871                 NaN           natural substrates   \n",
       "7774                 NaN  natural substrates, protein   \n",
       "4520                 NaN  natural substrates, generic   \n",
       "21194                NaN           natural substrates   \n",
       "\n",
       "                                                  smiles num products   \\\n",
       "5288                        BrC1=CC=CC2OC12>>Oc1ccccc1Br             1   \n",
       "1871   O/N=c1/ccn(O)c2ccccc12>>O=[N+]([O-])c1cc[n+]([...             1   \n",
       "7774   O=C(CO)[C@@H](O)[C@H](O)[C@H](O)CO>>O=C(COP(=O...             1   \n",
       "4520   N=c1[nH]c(=O)c2ncn([C@@H]3O[C@H](CO[PH](=O)(=O...             1   \n",
       "21194  O=C(O)c1cccc2ccc3ccccc3c12>>O=C(O)c1cccc2ccc3c...             1   \n",
       "\n",
       "                                           mapped_smiles num_products sequence  \n",
       "5288    [Br:1][C:2]1=[CH:3][CH:4]=[CH:5][CH:6]2[O:7][...            1     None  \n",
       "1871    [OH:1]/[N:2]=[c:3]\\1/[cH:4][cH:5][n:6]([OH:7]...            1     None  \n",
       "7774    [O:1]=[C:2]([CH2:3][OH:4])[C@@H:5]([OH:6])[C@...            1     None  \n",
       "4520    [O:1]=[c:2]1[nH:3][c:4](=[NH:5])[nH:6][c:7]2[...            1     None  \n",
       "21194  [O:1]=[C:2]([OH:3])[c:4]1[cH:5][cH:6][cH:7][c:...            1     None  \n",
       "\n",
       "[5 rows x 24 columns]"
      ]
     },
     "execution_count": 42,
     "metadata": {},
     "output_type": "execute_result"
    }
   ],
   "source": [
    "np.random.seed(4)\n",
    "ridxs = np.random.choice(bkms[bkms['sequence'].isna()].index, 5)\n",
    "\n",
    "bkms.loc[ridxs,:]"
   ]
  },
  {
   "cell_type": "code",
   "execution_count": 35,
   "id": "43b7e2ac",
   "metadata": {},
   "outputs": [],
   "source": [
    "bkms.to_csv('bkms/21Nov2023_bkms-mapped_w_seqs.tsv', sep='\\t', index=False)"
   ]
  },
  {
   "cell_type": "code",
   "execution_count": null,
   "id": "01371694",
   "metadata": {},
   "outputs": [],
   "source": []
  }
 ],
 "metadata": {
  "kernelspec": {
   "display_name": "crawl",
   "language": "python",
   "name": "crawl"
  },
  "language_info": {
   "codemirror_mode": {
    "name": "ipython",
    "version": 3
   },
   "file_extension": ".py",
   "mimetype": "text/x-python",
   "name": "python",
   "nbconvert_exporter": "python",
   "pygments_lexer": "ipython3",
   "version": "3.9.12"
  }
 },
 "nbformat": 4,
 "nbformat_minor": 5
}
