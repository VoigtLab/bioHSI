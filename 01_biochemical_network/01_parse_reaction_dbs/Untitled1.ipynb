{
 "cells": [
  {
   "cell_type": "code",
   "execution_count": 1,
   "id": "91933776",
   "metadata": {},
   "outputs": [],
   "source": [
    "import pandas as pd \n",
    "from rdkit import Chem"
   ]
  },
  {
   "cell_type": "code",
   "execution_count": 3,
   "id": "77d8d1c0",
   "metadata": {},
   "outputs": [
    {
     "name": "stderr",
     "output_type": "stream",
     "text": [
      "/var/folders/cb/fq3bwnj51bv2d7d694kx77pm0000gp/T/ipykernel_56345/557924117.py:1: DtypeWarning: Columns (1,2,3,4,5,15) have mixed types. Specify dtype option on import or set low_memory=False.\n",
      "  df = pd.read_csv('../construct_network_of_biosyntheses/03Nov2023_all_reaction_from_rhea_bkms_metacyc.csv', sep='\\t')\n"
     ]
    }
   ],
   "source": [
    "df = pd.read_csv('../construct_network_of_biosyntheses/03Nov2023_all_reaction_from_rhea_bkms_metacyc.csv', sep='\\t')"
   ]
  },
  {
   "cell_type": "code",
   "execution_count": 5,
   "id": "fec26b0f",
   "metadata": {},
   "outputs": [
    {
     "data": {
      "text/plain": [
       "Index(['Unnamed: 0', 'ID_rhea', 'reaction_string', 'reaction_chebi',\n",
       "       'reaction_smiles_bkms', 'reaction_smiles_no_cofs', 'smiles',\n",
       "       'index_bkms', 'ID_bkms', 'EC_Number', 'Recommended_Name', 'Reaction',\n",
       "       'Reaction_ID_BRENDA', 'Reaction_ID_KEGG', 'Reaction_ID_MetaCyc',\n",
       "       'Reaction_ID_SABIO_RK', 'BRENDA_Pathway_Name', 'KEGG_Pathway_ID',\n",
       "       'KEGG_Pathway_Name', 'MetaCyc_Pathway_ID', 'MetaCyc_Pathway_Name',\n",
       "       'Stoichiometry_Check', 'Missing_Substrate', 'Missing_Product',\n",
       "       'Commentary_KEGG', 'Commentary_MetaCyc', 'Remark', 'num products ',\n",
       "       'mapped_smiles', 'num_products', 'index_metacyc', 'UNIQUE-ID',\n",
       "       'EC-NUMBER', 'ENZYMATIC-REACTION', 'GIBBS-0', 'IN-PATHWAY', 'LEFT',\n",
       "       'PHYSIOLOGICALLY-RELEVANT?', 'PREDECESSORS', 'REACTION-BALANCE-STATUS',\n",
       "       'REACTION-DIRECTION', 'RIGHT', 'RXN-LOCATIONS', 'SIGNAL',\n",
       "       'SPONTANEOUS?', 'STD-REDUCTION-POTENTIAL', 'SYNONYMS',\n",
       "       'SYSTEMATIC-NAME', 'reaction_str', 'reaction_smiles_metacyc'],\n",
       "      dtype='object')"
      ]
     },
     "execution_count": 5,
     "metadata": {},
     "output_type": "execute_result"
    }
   ],
   "source": [
    "df.columns"
   ]
  },
  {
   "cell_type": "code",
   "execution_count": null,
   "id": "7daf95dc",
   "metadata": {},
   "outputs": [],
   "source": []
  }
 ],
 "metadata": {
  "kernelspec": {
   "display_name": "my-rdkit-env",
   "language": "python",
   "name": "my-rdkit-env"
  },
  "language_info": {
   "codemirror_mode": {
    "name": "ipython",
    "version": 3
   },
   "file_extension": ".py",
   "mimetype": "text/x-python",
   "name": "python",
   "nbconvert_exporter": "python",
   "pygments_lexer": "ipython3",
   "version": "3.11.0"
  }
 },
 "nbformat": 4,
 "nbformat_minor": 5
}
